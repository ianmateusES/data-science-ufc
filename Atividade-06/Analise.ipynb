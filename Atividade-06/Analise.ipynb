{
 "cells": [
  {
   "cell_type": "code",
   "execution_count": 1,
   "id": "hearing-syria",
   "metadata": {},
   "outputs": [],
   "source": [
    "import pandas as pd\n",
    "import numpy as np\n",
    "\n",
    "import matplotlib.pyplot as plt\n",
    "\n",
    "from sklearn.preprocessing import MinMaxScaler\n",
    "\n",
    "from sklearn.neighbors import KNeighborsClassifier\n",
    "from sklearn.neighbors import KNeighborsRegressor\n",
    "from sklearn.model_selection import train_test_split\n",
    "\n",
    "from sklearn.metrics import confusion_matrix, accuracy_score, precision_score, recall_score, f1_score, mean_absolute_error, mean_squared_error"
   ]
  },
  {
   "cell_type": "markdown",
   "id": "assisted-opposition",
   "metadata": {},
   "source": [
    "# 1. Implemente diferentes funções em Python, usando o NumPy, para calcular: "
   ]
  },
  {
   "cell_type": "markdown",
   "id": "anonymous-resort",
   "metadata": {},
   "source": [
    "## a) Acurácia"
   ]
  },
  {
   "cell_type": "code",
   "execution_count": 2,
   "id": "female-eugene",
   "metadata": {},
   "outputs": [],
   "source": [
    "def accuracy(y_true, y_pred):\n",
    "    cm = confusion_matrix(y_true, y_pred)\n",
    "    return np.sum(np.diagonal(cm)) / np.sum(cm)"
   ]
  },
  {
   "cell_type": "markdown",
   "id": "assisted-wheel",
   "metadata": {},
   "source": [
    "## b) Precisão"
   ]
  },
  {
   "cell_type": "code",
   "execution_count": 3,
   "id": "closed-incentive",
   "metadata": {},
   "outputs": [],
   "source": [
    "def precision(y_true, y_pred):\n",
    "    cm = confusion_matrix(y_true, y_pred)\n",
    "    return np.sum(\n",
    "            [cm[i,i] / np.sum(cm[:, i]) if np.sum(cm[:, i]) != 0 else 0 for i in range(len(cm))] * np.sum(cm, axis=1)\n",
    "        ) / np.sum(cm)"
   ]
  },
  {
   "cell_type": "markdown",
   "id": "guided-thailand",
   "metadata": {},
   "source": [
    "## c) Recall"
   ]
  },
  {
   "cell_type": "code",
   "execution_count": 4,
   "id": "alleged-genetics",
   "metadata": {},
   "outputs": [],
   "source": [
    "def recall(y_true, y_pred):\n",
    "    cm = confusion_matrix(y_true, y_pred)\n",
    "    return np.sum(\n",
    "            [cm[i,i] / np.sum(cm.T[:, i]) if np.sum(cm.T[:, i]) != 0 else 0 for i in range(len(cm))] * np.sum(cm, axis=1)\n",
    "        ) / np.sum(cm)"
   ]
  },
  {
   "cell_type": "markdown",
   "id": "organized-interval",
   "metadata": {},
   "source": [
    "## d) F1-Measure"
   ]
  },
  {
   "cell_type": "code",
   "execution_count": 5,
   "id": "absolute-collapse",
   "metadata": {},
   "outputs": [],
   "source": [
    "def f1_measure(y_true, y_pred):\n",
    "    cm = confusion_matrix(y_true, y_pred)\n",
    "    prec = []\n",
    "    rec = []\n",
    "    for i in range(len(cm)):\n",
    "        prec.append(cm[i,i] / np.sum(cm[:, i]) if np.sum(cm[:, i]) != 0 else 1)\n",
    "        rec.append(cm[i,i] / np.sum(cm.T[:, i]) if np.sum(cm.T[:, i]) != 0 else 1)\n",
    "    prec = np.array(prec)\n",
    "    rec = np.array(rec)\n",
    "    denom = prec + rec\n",
    "    denom[denom == 0.] = 1\n",
    "    return np.sum(2 * prec * rec * np.sum(cm, axis=1) / denom) / np.sum(cm)"
   ]
  },
  {
   "cell_type": "markdown",
   "id": "satisfied-negative",
   "metadata": {},
   "source": [
    "## e) MAE"
   ]
  },
  {
   "cell_type": "code",
   "execution_count": 6,
   "id": "exceptional-tackle",
   "metadata": {},
   "outputs": [],
   "source": [
    "def mae(y_true, y_pred):\n",
    "    return np.mean(np.abs(y_pred - y_true))"
   ]
  },
  {
   "cell_type": "markdown",
   "id": "amazing-policy",
   "metadata": {},
   "source": [
    "## f) RMSE"
   ]
  },
  {
   "cell_type": "code",
   "execution_count": 7,
   "id": "freelance-wallace",
   "metadata": {},
   "outputs": [],
   "source": [
    "def rmse(y_true, y_pred, squared=False):\n",
    "    mae = np.mean(np.abs(y_pred - y_true)**2)\n",
    "    if squared:\n",
    "        return mae\n",
    "    return np.sqrt(mae)"
   ]
  },
  {
   "cell_type": "markdown",
   "id": "sufficient-communication",
   "metadata": {},
   "source": [
    "# 2. Calcule Acurácia, Precisão, Recall e F1-Measure para sua solução da questão 2 da Lista 04. Caso não tenha feito a questão 2 da Lista 04 terá que fazê-la agora."
   ]
  },
  {
   "cell_type": "code",
   "execution_count": 8,
   "id": "central-armor",
   "metadata": {},
   "outputs": [],
   "source": [
    "df = pd.read_csv(\"winequality-white.csv\", sep=\";\")"
   ]
  },
  {
   "cell_type": "markdown",
   "id": "million-macintosh",
   "metadata": {},
   "source": [
    "## 2.1. Exiba a quantidade de amostras existente em cada classe de vinho, onde as classes são representadas por valores inteiros entre 0 e 10."
   ]
  },
  {
   "cell_type": "code",
   "execution_count": 9,
   "id": "indoor-saying",
   "metadata": {},
   "outputs": [
    {
     "data": {
      "text/plain": [
       "Text(0, 0.5, 'Quantidade')"
      ]
     },
     "execution_count": 9,
     "metadata": {},
     "output_type": "execute_result"
    },
    {
     "data": {
      "image/png": "[encoded data removed]",
      "text/plain": [
       "<Figure size 432x288 with 1 Axes>"
      ]
     },
     "metadata": {
      "needs_background": "light"
     },
     "output_type": "display_data"
    }
   ],
   "source": [
    "df['quality'].value_counts().plot.bar(rot=0)\n",
    "plt.xlabel('Qualidade')\n",
    "plt.ylabel('Quantidade')"
   ]
  },
  {
   "cell_type": "markdown",
   "id": "joined-ability",
   "metadata": {},
   "source": [
    "## 2.2. Separe 70% dos dados para treino (conjunto de treino) e 30% dos dados para teste (conjunto de teste)."
   ]
  },
  {
   "cell_type": "code",
   "execution_count": 10,
   "id": "structural-brook",
   "metadata": {},
   "outputs": [],
   "source": [
    "X = df.drop(columns=['quality'], axis=1)\n",
    "y = df['quality']"
   ]
  },
  {
   "cell_type": "code",
   "execution_count": 11,
   "id": "organizational-purchase",
   "metadata": {},
   "outputs": [],
   "source": [
    "X_minMax = MinMaxScaler().fit_transform(X) "
   ]
  },
  {
   "cell_type": "code",
   "execution_count": 12,
   "id": "differential-spencer",
   "metadata": {},
   "outputs": [],
   "source": [
    "X_train, X_test, y_train, y_test = train_test_split(X_minMax, y, train_size=0.7, random_state=42)"
   ]
  },
  {
   "cell_type": "markdown",
   "id": "greater-choice",
   "metadata": {},
   "source": [
    "## 2.3. Crie diferentes modelos de classificação de vinho usando o kNN com diferentes valores de k."
   ]
  },
  {
   "cell_type": "code",
   "execution_count": 13,
   "id": "waiting-pharmacology",
   "metadata": {},
   "outputs": [
    {
     "data": {
      "image/png": "[encoded data removed]",
      "text/plain": [
       "<Figure size 432x288 with 1 Axes>"
      ]
     },
     "metadata": {
      "needs_background": "light"
     },
     "output_type": "display_data"
    }
   ],
   "source": [
    "neighbors = np.arange(1, 50)\n",
    "\n",
    "accs = np.empty(len(neighbors))\n",
    "\n",
    "for i, k in enumerate(neighbors):\n",
    "    kn = KNeighborsClassifier(n_neighbors=k)\n",
    "    kn.fit(X_train, y_train)\n",
    "    y_pred = kn.predict(X_test)\n",
    "    accs[i] = accuracy(y_test, y_pred) * 100\n",
    "    \n",
    "plt.title('Modelo KNN')\n",
    "plt.plot(neighbors, accs)\n",
    "plt.grid()\n",
    "plt.xlabel('Número de vizinhos')\n",
    "plt.ylabel('Accuracy %')\n",
    "plt.show()"
   ]
  },
  {
   "cell_type": "markdown",
   "id": "bibliographic-train",
   "metadata": {},
   "source": [
    "## 2.4. Mostre os resultados de acurácia para os modelos criados. Qual o modelo com melhor acurácia?"
   ]
  },
  {
   "cell_type": "code",
   "execution_count": 15,
   "id": "large-douglas",
   "metadata": {},
   "outputs": [
    {
     "data": {
      "text/plain": [
       "KNeighborsClassifier(n_neighbors=1)"
      ]
     },
     "execution_count": 15,
     "metadata": {},
     "output_type": "execute_result"
    }
   ],
   "source": [
    "model = KNeighborsClassifier(n_neighbors=1)\n",
    "model.fit(X_train, y_train)"
   ]
  },
  {
   "cell_type": "code",
   "execution_count": 16,
   "id": "three-disability",
   "metadata": {},
   "outputs": [],
   "source": [
    "y_pred = model.predict(X_test)"
   ]
  },
  {
   "cell_type": "code",
   "execution_count": 17,
   "id": "harmful-mexican",
   "metadata": {},
   "outputs": [
    {
     "name": "stdout",
     "output_type": "stream",
     "text": [
      "Accuracy=0.617687074829932, Precision=0.6194461464588885, Recall=0.617687074829932, f1_measure=0.6183673752076354\n"
     ]
    }
   ],
   "source": [
    "# Sem sklearn\n",
    "print('Accuracy={}, Precision={}, Recall={}, f1_measure={}'.format(accuracy(y_test, y_pred), \n",
    "                                                                   precision(y_test, y_pred), \n",
    "                                                                   recall(y_test, y_pred), \n",
    "                                                                   f1_measure(y_test, y_pred)))"
   ]
  },
  {
   "cell_type": "code",
   "execution_count": 18,
   "id": "external-procedure",
   "metadata": {},
   "outputs": [
    {
     "name": "stdout",
     "output_type": "stream",
     "text": [
      "Accuracy=0.617687074829932, Precision=0.6194461464588885, Recall=0.617687074829932, f1_measure=0.6183673752076354\n"
     ]
    },
    {
     "name": "stderr",
     "output_type": "stream",
     "text": [
      "/home/ianmateus/.local/lib/python3.8/site-packages/sklearn/metrics/_classification.py:1248: UndefinedMetricWarning: Recall is ill-defined and being set to 0.0 in labels with no true samples. Use `zero_division` parameter to control this behavior.\n",
      "  _warn_prf(average, modifier, msg_start, len(result))\n"
     ]
    }
   ],
   "source": [
    "# Sklearn\n",
    "print('Accuracy={}, Precision={}, Recall={}, f1_measure={}'.format(accuracy_score(y_test, y_pred), \n",
    "                                                                   precision_score(y_test, y_pred, average='weighted'), \n",
    "                                                                   recall_score(y_test, y_pred, average='weighted'), \n",
    "                                                                   f1_score(y_test, y_pred, average='weighted')))"
   ]
  },
  {
   "cell_type": "markdown",
   "id": "mechanical-private",
   "metadata": {},
   "source": [
    "# 3. Calcule MAE e RMSE para sua solução da questão 3.3 da Lista 05. Caso não tenha feito a questão 3.3 da Lista 05 terá que fazê-la agora."
   ]
  },
  {
   "cell_type": "markdown",
   "id": "funny-canal",
   "metadata": {},
   "source": [
    "## 3.1 Separe 70% dos dados para treino (conjunto de treino) e 30% dos dados para teste (conjunto de teste)."
   ]
  },
  {
   "cell_type": "code",
   "execution_count": 19,
   "id": "cubic-skiing",
   "metadata": {},
   "outputs": [],
   "source": [
    "X = df.drop(columns=['quality'], axis=1).values\n",
    "y = df['quality'].values"
   ]
  },
  {
   "cell_type": "code",
   "execution_count": 20,
   "id": "polyphonic-marketing",
   "metadata": {},
   "outputs": [],
   "source": [
    "X_train, X_test, y_train, y_test = train_test_split(X, y, train_size=0.7, random_state=42)"
   ]
  },
  {
   "cell_type": "markdown",
   "id": "invisible-guess",
   "metadata": {},
   "source": [
    "## 3.2. Crie um modelo de regressão de qualidade de vinho usando o kNN para k=5."
   ]
  },
  {
   "cell_type": "code",
   "execution_count": 21,
   "id": "japanese-amazon",
   "metadata": {},
   "outputs": [
    {
     "data": {
      "text/plain": [
       "KNeighborsRegressor()"
      ]
     },
     "execution_count": 21,
     "metadata": {},
     "output_type": "execute_result"
    }
   ],
   "source": [
    "model = KNeighborsRegressor(n_neighbors=5)\n",
    "model.fit(X_train, y_train)"
   ]
  },
  {
   "cell_type": "markdown",
   "id": "collect-award",
   "metadata": {},
   "source": [
    "## 3.3. Use o modelo de regressão sobre X_test para calcular os valores preditos dos rótulos (y_pred)."
   ]
  },
  {
   "cell_type": "code",
   "execution_count": 22,
   "id": "subsequent-truck",
   "metadata": {},
   "outputs": [],
   "source": [
    "y_pred = model.predict(X_test)"
   ]
  },
  {
   "cell_type": "code",
   "execution_count": 23,
   "id": "parallel-coordination",
   "metadata": {},
   "outputs": [
    {
     "data": {
      "text/plain": [
       "0.1508763757631555"
      ]
     },
     "execution_count": 23,
     "metadata": {},
     "output_type": "execute_result"
    }
   ],
   "source": [
    "model.score(X_test, y_test)"
   ]
  },
  {
   "cell_type": "code",
   "execution_count": 24,
   "id": "virgin-count",
   "metadata": {},
   "outputs": [
    {
     "name": "stdout",
     "output_type": "stream",
     "text": [
      "MAE=0.6273469387755103, RMSE=0.800696975302457\n"
     ]
    }
   ],
   "source": [
    "# Sem sklearn\n",
    "print('MAE={}, RMSE={}'.format(mae(y_test, y_pred), rmse(y_test, y_pred))) "
   ]
  },
  {
   "cell_type": "code",
   "execution_count": 25,
   "id": "nominated-expert",
   "metadata": {},
   "outputs": [
    {
     "name": "stdout",
     "output_type": "stream",
     "text": [
      "MAE=0.6273469387755103, RMSE=0.800696975302457\n"
     ]
    }
   ],
   "source": [
    "# Sklearn\n",
    "print('MAE={}, RMSE={}'.format(mean_absolute_error(y_test, y_pred), mean_squared_error(y_test, y_pred, squared=False))) "
   ]
  },
  {
   "cell_type": "code",
   "execution_count": null,
   "id": "political-lucas",
   "metadata": {},
   "outputs": [],
   "source": []
  }
 ],
 "metadata": {
  "kernelspec": {
   "display_name": "Python 3",
   "language": "python",
   "name": "python3"
  },
  "language_info": {
   "codemirror_mode": {
    "name": "ipython",
    "version": 3
   },
   "file_extension": ".py",
   "mimetype": "text/x-python",
   "name": "python",
   "nbconvert_exporter": "python",
   "pygments_lexer": "ipython3",
   "version": "3.8.5"
  }
 },
 "nbformat": 4,
 "nbformat_minor": 5
}
