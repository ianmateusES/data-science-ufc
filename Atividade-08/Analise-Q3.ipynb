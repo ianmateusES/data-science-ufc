{
 "cells": [
  {
   "cell_type": "markdown",
   "id": "e8dd5833-70d4-4a4c-b629-8d5829b4193f",
   "metadata": {},
   "source": [
    "# 3. Resolva o problema de classificação binária sobre o dataset \"[Pima Indians Diabetes Database](https://www.kaggle.com/uciml/pima-indians-diabetes-database)\". "
   ]
  },
  {
   "cell_type": "markdown",
   "id": "47db4d75-4678-4aaa-bbfe-36e0dfb95e4d",
   "metadata": {},
   "source": [
    "### Context\n",
    "This dataset is originally from the National Institute of Diabetes and Digestive and Kidney Diseases. The objective of the dataset is to diagnostically predict whether or not a patient has diabetes, based on certain diagnostic measurements included in the dataset. Several constraints were placed on the selection of these instances from a larger database. In particular, all patients here are females at least 21 years old of Pima Indian heritage.\n",
    "\n",
    "### Content\n",
    "The datasets consists of several medical predictor variables and one target variable, Outcome. Predictor variables includes the number of pregnancies the patient has had, their BMI, insulin level, age, and so on.\n",
    "\n",
    "### Acknowledgements\n",
    "Smith, J.W., Everhart, J.E., Dickson, W.C., Knowler, W.C., & Johannes, R.S. (1988). Using the ADAP learning algorithm to forecast the onset of diabetes mellitus. In Proceedings of the Symposium on Computer Applications and Medical Care (pp. 261--265). IEEE Computer Society Press.\n",
    "\n",
    "### Inspiration\n",
    "Can you build a machine learning model to accurately predict whether or not the patients in the dataset have diabetes or not?"
   ]
  },
  {
   "cell_type": "code",
   "execution_count": 1,
   "id": "d19bc397-eeaa-4e75-a271-5a76d2d5c31e",
   "metadata": {},
   "outputs": [],
   "source": [
    "import pandas as pd\n",
    "import numpy as np\n",
    "import warnings\n",
    "\n",
    "warnings.filterwarnings(\"ignore\")\n",
    "\n",
    "from sklearn.model_selection import train_test_split\n",
    "from sklearn.metrics import accuracy_score"
   ]
  },
  {
   "cell_type": "code",
   "execution_count": 2,
   "id": "6bb1ecf5-1aa7-41de-ab0c-495dc7ba73db",
   "metadata": {},
   "outputs": [],
   "source": [
    "df = pd.read_csv('diabetes.csv')"
   ]
  },
  {
   "cell_type": "code",
   "execution_count": 3,
   "id": "b0797deb-a650-43b1-abb9-cb6f7128e0f6",
   "metadata": {},
   "outputs": [
    {
     "data": {
      "text/plain": [
       "(768, 9)"
      ]
     },
     "execution_count": 3,
     "metadata": {},
     "output_type": "execute_result"
    }
   ],
   "source": [
    "df.shape"
   ]
  },
  {
   "cell_type": "code",
   "execution_count": 4,
   "id": "281ae79f-eb33-4322-9a95-d95dbf366af2",
   "metadata": {},
   "outputs": [
    {
     "data": {
      "text/html": [
       "<div>\n",
       "<style scoped>\n",
       "    .dataframe tbody tr th:only-of-type {\n",
       "        vertical-align: middle;\n",
       "    }\n",
       "\n",
       "    .dataframe tbody tr th {\n",
       "        vertical-align: top;\n",
       "    }\n",
       "\n",
       "    .dataframe thead th {\n",
       "        text-align: right;\n",
       "    }\n",
       "</style>\n",
       "<table border=\"1\" class=\"dataframe\">\n",
       "  <thead>\n",
       "    <tr style=\"text-align: right;\">\n",
       "      <th></th>\n",
       "      <th>Pregnancies</th>\n",
       "      <th>Glucose</th>\n",
       "      <th>BloodPressure</th>\n",
       "      <th>SkinThickness</th>\n",
       "      <th>Insulin</th>\n",
       "      <th>BMI</th>\n",
       "      <th>DiabetesPedigreeFunction</th>\n",
       "      <th>Age</th>\n",
       "      <th>Outcome</th>\n",
       "    </tr>\n",
       "  </thead>\n",
       "  <tbody>\n",
       "    <tr>\n",
       "      <th>0</th>\n",
       "      <td>6</td>\n",
       "      <td>148</td>\n",
       "      <td>72</td>\n",
       "      <td>35</td>\n",
       "      <td>0</td>\n",
       "      <td>33.6</td>\n",
       "      <td>0.627</td>\n",
       "      <td>50</td>\n",
       "      <td>1</td>\n",
       "    </tr>\n",
       "    <tr>\n",
       "      <th>1</th>\n",
       "      <td>1</td>\n",
       "      <td>85</td>\n",
       "      <td>66</td>\n",
       "      <td>29</td>\n",
       "      <td>0</td>\n",
       "      <td>26.6</td>\n",
       "      <td>0.351</td>\n",
       "      <td>31</td>\n",
       "      <td>0</td>\n",
       "    </tr>\n",
       "    <tr>\n",
       "      <th>2</th>\n",
       "      <td>8</td>\n",
       "      <td>183</td>\n",
       "      <td>64</td>\n",
       "      <td>0</td>\n",
       "      <td>0</td>\n",
       "      <td>23.3</td>\n",
       "      <td>0.672</td>\n",
       "      <td>32</td>\n",
       "      <td>1</td>\n",
       "    </tr>\n",
       "    <tr>\n",
       "      <th>3</th>\n",
       "      <td>1</td>\n",
       "      <td>89</td>\n",
       "      <td>66</td>\n",
       "      <td>23</td>\n",
       "      <td>94</td>\n",
       "      <td>28.1</td>\n",
       "      <td>0.167</td>\n",
       "      <td>21</td>\n",
       "      <td>0</td>\n",
       "    </tr>\n",
       "    <tr>\n",
       "      <th>4</th>\n",
       "      <td>0</td>\n",
       "      <td>137</td>\n",
       "      <td>40</td>\n",
       "      <td>35</td>\n",
       "      <td>168</td>\n",
       "      <td>43.1</td>\n",
       "      <td>2.288</td>\n",
       "      <td>33</td>\n",
       "      <td>1</td>\n",
       "    </tr>\n",
       "    <tr>\n",
       "      <th>...</th>\n",
       "      <td>...</td>\n",
       "      <td>...</td>\n",
       "      <td>...</td>\n",
       "      <td>...</td>\n",
       "      <td>...</td>\n",
       "      <td>...</td>\n",
       "      <td>...</td>\n",
       "      <td>...</td>\n",
       "      <td>...</td>\n",
       "    </tr>\n",
       "    <tr>\n",
       "      <th>763</th>\n",
       "      <td>10</td>\n",
       "      <td>101</td>\n",
       "      <td>76</td>\n",
       "      <td>48</td>\n",
       "      <td>180</td>\n",
       "      <td>32.9</td>\n",
       "      <td>0.171</td>\n",
       "      <td>63</td>\n",
       "      <td>0</td>\n",
       "    </tr>\n",
       "    <tr>\n",
       "      <th>764</th>\n",
       "      <td>2</td>\n",
       "      <td>122</td>\n",
       "      <td>70</td>\n",
       "      <td>27</td>\n",
       "      <td>0</td>\n",
       "      <td>36.8</td>\n",
       "      <td>0.340</td>\n",
       "      <td>27</td>\n",
       "      <td>0</td>\n",
       "    </tr>\n",
       "    <tr>\n",
       "      <th>765</th>\n",
       "      <td>5</td>\n",
       "      <td>121</td>\n",
       "      <td>72</td>\n",
       "      <td>23</td>\n",
       "      <td>112</td>\n",
       "      <td>26.2</td>\n",
       "      <td>0.245</td>\n",
       "      <td>30</td>\n",
       "      <td>0</td>\n",
       "    </tr>\n",
       "    <tr>\n",
       "      <th>766</th>\n",
       "      <td>1</td>\n",
       "      <td>126</td>\n",
       "      <td>60</td>\n",
       "      <td>0</td>\n",
       "      <td>0</td>\n",
       "      <td>30.1</td>\n",
       "      <td>0.349</td>\n",
       "      <td>47</td>\n",
       "      <td>1</td>\n",
       "    </tr>\n",
       "    <tr>\n",
       "      <th>767</th>\n",
       "      <td>1</td>\n",
       "      <td>93</td>\n",
       "      <td>70</td>\n",
       "      <td>31</td>\n",
       "      <td>0</td>\n",
       "      <td>30.4</td>\n",
       "      <td>0.315</td>\n",
       "      <td>23</td>\n",
       "      <td>0</td>\n",
       "    </tr>\n",
       "  </tbody>\n",
       "</table>\n",
       "<p>768 rows × 9 columns</p>\n",
       "</div>"
      ],
      "text/plain": [
       "     Pregnancies  Glucose  BloodPressure  SkinThickness  Insulin   BMI  \\\n",
       "0              6      148             72             35        0  33.6   \n",
       "1              1       85             66             29        0  26.6   \n",
       "2              8      183             64              0        0  23.3   \n",
       "3              1       89             66             23       94  28.1   \n",
       "4              0      137             40             35      168  43.1   \n",
       "..           ...      ...            ...            ...      ...   ...   \n",
       "763           10      101             76             48      180  32.9   \n",
       "764            2      122             70             27        0  36.8   \n",
       "765            5      121             72             23      112  26.2   \n",
       "766            1      126             60              0        0  30.1   \n",
       "767            1       93             70             31        0  30.4   \n",
       "\n",
       "     DiabetesPedigreeFunction  Age  Outcome  \n",
       "0                       0.627   50        1  \n",
       "1                       0.351   31        0  \n",
       "2                       0.672   32        1  \n",
       "3                       0.167   21        0  \n",
       "4                       2.288   33        1  \n",
       "..                        ...  ...      ...  \n",
       "763                     0.171   63        0  \n",
       "764                     0.340   27        0  \n",
       "765                     0.245   30        0  \n",
       "766                     0.349   47        1  \n",
       "767                     0.315   23        0  \n",
       "\n",
       "[768 rows x 9 columns]"
      ]
     },
     "execution_count": 4,
     "metadata": {},
     "output_type": "execute_result"
    }
   ],
   "source": [
    "df"
   ]
  },
  {
   "cell_type": "code",
   "execution_count": 5,
   "id": "25fc66bb-801d-49a4-bf39-aeda4bef5752",
   "metadata": {},
   "outputs": [
    {
     "data": {
      "image/png": "[encoded data removed]",
      "text/plain": [
       "<Figure size 432x288 with 1 Axes>"
      ]
     },
     "metadata": {
      "needs_background": "light"
     },
     "output_type": "display_data"
    }
   ],
   "source": [
    "df['Outcome'].value_counts().plot.bar(grid=True, rot=0);"
   ]
  },
  {
   "cell_type": "code",
   "execution_count": 6,
   "id": "6a9779b7-f6d8-442e-8fe5-5a57f19c6941",
   "metadata": {},
   "outputs": [],
   "source": [
    "X = df.drop(columns=['Outcome'], axis=1)\n",
    "y = df['Outcome']"
   ]
  },
  {
   "cell_type": "code",
   "execution_count": null,
   "id": "90a34c14-1c8a-4841-b5e7-11340f8d86d2",
   "metadata": {},
   "outputs": [],
   "source": []
  },
  {
   "cell_type": "markdown",
   "id": "16388884-6abe-45c0-87f9-b1223af65e22",
   "metadata": {},
   "source": [
    "### 1. Separe os dados em treino (80%) e teste (20%)."
   ]
  },
  {
   "cell_type": "code",
   "execution_count": 7,
   "id": "57eab943-7e0e-4cb8-900f-b6cbf8d091a9",
   "metadata": {},
   "outputs": [],
   "source": [
    "X_train, X_test, y_train, y_test = train_test_split(X, y, test_size=0.3, random_state=42)"
   ]
  },
  {
   "cell_type": "code",
   "execution_count": null,
   "id": "97f008b5-fd59-4c23-9668-3101829eec5b",
   "metadata": {},
   "outputs": [],
   "source": []
  },
  {
   "cell_type": "markdown",
   "id": "9c6d8514-1e08-4676-bcf0-158cb8f715df",
   "metadata": {},
   "source": [
    "### 2. Use o algoritmo LogisticRegression."
   ]
  },
  {
   "cell_type": "markdown",
   "id": "d6c9b267-6c20-44f6-8265-a44356a379d8",
   "metadata": {},
   "source": [
    "- Crie modelos usando diferentes regularizações: Nenhuma, L1, L2, ElasticNet (penalty : None, ‘l2’ or ‘l1’ or ‘elasticnet’).\n",
    "    - Ao usar L1, mostre que features foram descartadas. Dica: analise o impacto sobre os coeficientes (coef_).\n",
    "    - Mostre o impacto de L2 sobre as features. Dica: compare regularização L2 com nenhuma regularização. \n",
    "    - OBS: Use diferentes valores de alpha para ver como eles afetam os resultados.\n",
    "    - Alpha ajuda a controlar a complexidade do modelo. Ele controla a força da regularização.  \n",
    "    - Alpha igual a zero pode gerar overfitting.  \n",
    "    - Alpha muito grande pode levar a underfitting.  \n",
    "    - Na literatura alpha às vezes é chamado de lambda.  \n",
    "    - Perceba que a implementação de LogisticRegression do scikit learn usa o hiperparâmetro C, que é o inverso de alpha (C=1/alpha).  \n",
    "- Usar a seguinte métrica: Accuracy."
   ]
  },
  {
   "cell_type": "code",
   "execution_count": 8,
   "id": "8e6f6f36-392b-4ecf-8ab2-5936f8265f77",
   "metadata": {},
   "outputs": [],
   "source": [
    "from sklearn.linear_model import LogisticRegression\n",
    "import matplotlib.pyplot as plt"
   ]
  },
  {
   "cell_type": "markdown",
   "id": "e79e8c6f-fdc1-4740-b3ab-e21b6215c165",
   "metadata": {},
   "source": [
    "### Usar L1, mostre que features foram descartadas. Dica: analise o impacto sobre os coeficientes (coef_)"
   ]
  },
  {
   "cell_type": "code",
   "execution_count": 9,
   "id": "f3454a27-c02b-4c24-aa67-6d12815e489d",
   "metadata": {},
   "outputs": [
    {
     "data": {
      "text/plain": [
       "LogisticRegression(penalty='l1', random_state=16, solver='liblinear')"
      ]
     },
     "execution_count": 9,
     "metadata": {},
     "output_type": "execute_result"
    }
   ],
   "source": [
    "model = LogisticRegression(penalty='l1', random_state=16, solver='liblinear')\n",
    "model.fit(X_train, y_train)"
   ]
  },
  {
   "cell_type": "code",
   "execution_count": 10,
   "id": "28d79f31-2780-4630-9701-597135c89855",
   "metadata": {},
   "outputs": [
    {
     "data": {
      "text/plain": [
       "0.7445887445887446"
      ]
     },
     "execution_count": 10,
     "metadata": {},
     "output_type": "execute_result"
    }
   ],
   "source": [
    "model.score(X_test, y_test)"
   ]
  },
  {
   "cell_type": "code",
   "execution_count": 11,
   "id": "2f274704-e9fe-41e2-bf8f-b81a9eb1384e",
   "metadata": {},
   "outputs": [
    {
     "data": {
      "text/plain": [
       "array([ 0.05669612,  0.03380266, -0.01198747, -0.00128137, -0.00082526,\n",
       "        0.09897499,  0.26974699,  0.03323423])"
      ]
     },
     "execution_count": 11,
     "metadata": {},
     "output_type": "execute_result"
    }
   ],
   "source": [
    "model.coef_[0]"
   ]
  },
  {
   "cell_type": "code",
   "execution_count": 12,
   "id": "a13eadb8-84c8-4e20-be7a-a776451cc225",
   "metadata": {},
   "outputs": [
    {
     "data": {
      "image/png": "[encoded data removed]",
      "text/plain": [
       "<Figure size 432x288 with 1 Axes>"
      ]
     },
     "metadata": {
      "needs_background": "light"
     },
     "output_type": "display_data"
    }
   ],
   "source": [
    "plt.bar(X.columns.values, model.coef_[0])\n",
    "plt.axhline(0, color='grey', linewidth=0.8)\n",
    "plt.xticks(rotation=90);"
   ]
  },
  {
   "cell_type": "code",
   "execution_count": 13,
   "id": "af23a21d-9852-46b9-a87f-e07f01e189b7",
   "metadata": {},
   "outputs": [],
   "source": [
    "valores_alpha = np.logspace(-4, 0, 5)"
   ]
  },
  {
   "cell_type": "code",
   "execution_count": 14,
   "id": "ba17a8c4-7a32-4815-abe2-8907e6e70352",
   "metadata": {},
   "outputs": [],
   "source": [
    "result = []\n",
    "for alpha in valores_alpha:\n",
    "    model = LogisticRegression(C=alpha, penalty='l1', random_state=16, solver='liblinear')\n",
    "    model.fit(X_train, y_train)\n",
    "    res = model.score(X_test, y_test)\n",
    "    result.append(res)"
   ]
  },
  {
   "cell_type": "code",
   "execution_count": 15,
   "id": "f00c37f7-a69f-421f-918a-9938279dcdfb",
   "metadata": {},
   "outputs": [
    {
     "data": {
      "text/plain": [
       "alpha    0.1\n",
       "dtype: float64"
      ]
     },
     "execution_count": 15,
     "metadata": {},
     "output_type": "execute_result"
    }
   ],
   "source": [
    "pd.DataFrame(result, index=valores_alpha, columns=['alpha']).idxmax()"
   ]
  },
  {
   "cell_type": "code",
   "execution_count": 16,
   "id": "8cba5f4f-eda8-419d-a452-f9b2037bfb75",
   "metadata": {},
   "outputs": [
    {
     "data": {
      "text/plain": [
       "0.7662337662337663"
      ]
     },
     "execution_count": 16,
     "metadata": {},
     "output_type": "execute_result"
    }
   ],
   "source": [
    "model = LogisticRegression(C=0.1, penalty='l1', random_state=16, solver='liblinear')\n",
    "model.fit(X_train, y_train)\n",
    "model.score(X_test, y_test)"
   ]
  },
  {
   "cell_type": "code",
   "execution_count": 17,
   "id": "a5aaff09-dfcb-4a52-b337-9d1f8a8af605",
   "metadata": {},
   "outputs": [
    {
     "data": {
      "image/png": "[encoded data removed]",
      "text/plain": [
       "<Figure size 432x288 with 1 Axes>"
      ]
     },
     "metadata": {
      "needs_background": "light"
     },
     "output_type": "display_data"
    }
   ],
   "source": [
    "plt.bar(X.columns.values, model.coef_[0])\n",
    "plt.axhline(0, color='grey', linewidth=0.8)\n",
    "plt.xticks(rotation=90);"
   ]
  },
  {
   "cell_type": "code",
   "execution_count": null,
   "id": "8df916ba-76cb-461b-808d-bf36c909d5cc",
   "metadata": {},
   "outputs": [],
   "source": []
  },
  {
   "cell_type": "markdown",
   "id": "d227e4e0-3832-414e-a48d-ba7d7a2cc71f",
   "metadata": {},
   "source": [
    "### Mostre o impacto de L2 sobre as features. Dica: compare regularização L2 com nenhuma regularização."
   ]
  },
  {
   "cell_type": "code",
   "execution_count": 18,
   "id": "f34f914c-1b36-4a98-9560-75d8545d045d",
   "metadata": {},
   "outputs": [
    {
     "data": {
      "text/plain": [
       "LogisticRegression(random_state=16, solver='liblinear')"
      ]
     },
     "execution_count": 18,
     "metadata": {},
     "output_type": "execute_result"
    }
   ],
   "source": [
    "model = LogisticRegression(penalty='l2', random_state=16, solver='liblinear')\n",
    "model.fit(X_train, y_train)"
   ]
  },
  {
   "cell_type": "code",
   "execution_count": 19,
   "id": "c7d00b86-569f-4372-9619-d73762c25ad6",
   "metadata": {},
   "outputs": [],
   "source": [
    "res_l2 = model.score(X_test, y_test)"
   ]
  },
  {
   "cell_type": "code",
   "execution_count": 20,
   "id": "aa74d7ad-b4f3-4406-b4ff-1413b43c4ca2",
   "metadata": {},
   "outputs": [
    {
     "data": {
      "text/plain": [
       "0.7532467532467533"
      ]
     },
     "execution_count": 20,
     "metadata": {},
     "output_type": "execute_result"
    }
   ],
   "source": [
    "res_l2"
   ]
  },
  {
   "cell_type": "code",
   "execution_count": 21,
   "id": "0c6e4d55-9a9f-4e49-943e-1fbdf1cb2b3a",
   "metadata": {},
   "outputs": [
    {
     "data": {
      "text/plain": [
       "LogisticRegression(penalty='none', random_state=16)"
      ]
     },
     "execution_count": 21,
     "metadata": {},
     "output_type": "execute_result"
    }
   ],
   "source": [
    "model = LogisticRegression(penalty='none', random_state=16)\n",
    "model.fit(X_train, y_train)"
   ]
  },
  {
   "cell_type": "code",
   "execution_count": 22,
   "id": "be4454db-cfa8-436d-9275-760a5d6bb352",
   "metadata": {},
   "outputs": [],
   "source": [
    "res_none = model.score(X_test, y_test)"
   ]
  },
  {
   "cell_type": "code",
   "execution_count": 23,
   "id": "5f0c346e-db3a-4e5b-9988-cc86f22a57b4",
   "metadata": {},
   "outputs": [
    {
     "data": {
      "text/plain": [
       "0.7402597402597403"
      ]
     },
     "execution_count": 23,
     "metadata": {},
     "output_type": "execute_result"
    }
   ],
   "source": [
    "res_none"
   ]
  },
  {
   "cell_type": "markdown",
   "id": "de2a8695-8482-4b85-961b-9759efc66c37",
   "metadata": {},
   "source": [
    "#### Diferentes valores de alpha com l2"
   ]
  },
  {
   "cell_type": "code",
   "execution_count": 24,
   "id": "ea3e1feb-a75e-49b6-a450-77a3f9751c48",
   "metadata": {},
   "outputs": [],
   "source": [
    "valores_alpha = np.logspace(-4, 0, 5)"
   ]
  },
  {
   "cell_type": "code",
   "execution_count": 25,
   "id": "275b4c0e-fecb-4ada-ab47-7e15a894d096",
   "metadata": {},
   "outputs": [],
   "source": [
    "result = []\n",
    "for alpha in valores_alpha:\n",
    "    model = LogisticRegression(C=alpha, penalty='l2', random_state=16, solver='liblinear')\n",
    "    model.fit(X_train, y_train)\n",
    "    res = model.score(X_test, y_test)\n",
    "    result.append(res)"
   ]
  },
  {
   "cell_type": "code",
   "execution_count": 26,
   "id": "d4bebc21-b5ae-4c82-b07d-92c169d6779b",
   "metadata": {},
   "outputs": [
    {
     "data": {
      "text/plain": [
       "alpha    1.0\n",
       "dtype: float64"
      ]
     },
     "execution_count": 26,
     "metadata": {},
     "output_type": "execute_result"
    }
   ],
   "source": [
    "pd.DataFrame(result, index=valores_alpha, columns=['alpha']).idxmax()"
   ]
  },
  {
   "cell_type": "code",
   "execution_count": 27,
   "id": "2545d60c-73c0-4bde-a2fb-8b71cc9407e8",
   "metadata": {},
   "outputs": [
    {
     "data": {
      "text/plain": [
       "0.7445887445887446"
      ]
     },
     "execution_count": 27,
     "metadata": {},
     "output_type": "execute_result"
    }
   ],
   "source": [
    "model = LogisticRegression(C=1.0, penalty='l1', random_state=16, solver='liblinear')\n",
    "model.fit(X_train, y_train)\n",
    "model.score(X_test, y_test)"
   ]
  },
  {
   "cell_type": "code",
   "execution_count": 28,
   "id": "84394834-fb91-4df4-91b5-84749452aef8",
   "metadata": {},
   "outputs": [
    {
     "data": {
      "text/plain": [
       "0.7445887445887446"
      ]
     },
     "execution_count": 28,
     "metadata": {},
     "output_type": "execute_result"
    }
   ],
   "source": [
    "y_pred = model.predict(X_test)\n",
    "accuracy_score(y_test, y_pred)"
   ]
  },
  {
   "cell_type": "markdown",
   "id": "8c8fca4b-79db-4cd0-8104-d63cad07ef3e",
   "metadata": {},
   "source": [
    "#### Diferentes valores de alpha sem regularização"
   ]
  },
  {
   "cell_type": "code",
   "execution_count": 29,
   "id": "8fe6d2b4-8658-4fd5-8793-451685fbe369",
   "metadata": {},
   "outputs": [],
   "source": [
    "result = []\n",
    "for alpha in valores_alpha:\n",
    "    model = LogisticRegression(C=alpha, penalty='none', random_state=16)\n",
    "    model.fit(X_train, y_train)\n",
    "    res = model.score(X_test, y_test)\n",
    "    result.append(res)"
   ]
  },
  {
   "cell_type": "code",
   "execution_count": 30,
   "id": "6e35f287-31da-40f7-a41a-f84973c9816c",
   "metadata": {},
   "outputs": [
    {
     "data": {
      "text/plain": [
       "alpha    0.0001\n",
       "dtype: float64"
      ]
     },
     "execution_count": 30,
     "metadata": {},
     "output_type": "execute_result"
    }
   ],
   "source": [
    "pd.DataFrame(result, index=valores_alpha, columns=['alpha']).idxmax()"
   ]
  },
  {
   "cell_type": "code",
   "execution_count": 31,
   "id": "916cc521-438c-40f2-9eb2-b9dd2624bbe2",
   "metadata": {},
   "outputs": [
    {
     "data": {
      "text/plain": [
       "0.7402597402597403"
      ]
     },
     "execution_count": 31,
     "metadata": {},
     "output_type": "execute_result"
    }
   ],
   "source": [
    "model = LogisticRegression(C=0.0001, penalty='none', random_state=16)\n",
    "model.fit(X_train, y_train)\n",
    "model.score(X_test, y_test)"
   ]
  },
  {
   "cell_type": "code",
   "execution_count": 32,
   "id": "fef1ac33-9012-471c-9d8c-516dde0b7ad2",
   "metadata": {},
   "outputs": [
    {
     "data": {
      "text/plain": [
       "0.7402597402597403"
      ]
     },
     "execution_count": 32,
     "metadata": {},
     "output_type": "execute_result"
    }
   ],
   "source": [
    "y_pred = model.predict(X_test)\n",
    "accuracy_score(y_test, y_pred)"
   ]
  },
  {
   "cell_type": "code",
   "execution_count": null,
   "id": "ccdfb360-3ed7-4f09-9a15-f6d89b5bb4fe",
   "metadata": {},
   "outputs": [],
   "source": []
  }
 ],
 "metadata": {
  "kernelspec": {
   "display_name": "Python 3 (ipykernel)",
   "language": "python",
   "name": "python3"
  },
  "language_info": {
   "codemirror_mode": {
    "name": "ipython",
    "version": 3
   },
   "file_extension": ".py",
   "mimetype": "text/x-python",
   "name": "python",
   "nbconvert_exporter": "python",
   "pygments_lexer": "ipython3",
   "version": "3.8.10"
  }
 },
 "nbformat": 4,
 "nbformat_minor": 5
}
