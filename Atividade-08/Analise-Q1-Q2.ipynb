{
 "cells": [
  {
   "cell_type": "code",
   "execution_count": 1,
   "id": "45889283-ce29-49cf-9359-9c7f8c467dd9",
   "metadata": {},
   "outputs": [],
   "source": [
    "import pandas as pd\n",
    "import numpy as np\n",
    "import matplotlib.pyplot as plt\n",
    "\n",
    "from sklearn.model_selection import train_test_split\n",
    "from sklearn import datasets"
   ]
  },
  {
   "cell_type": "code",
   "execution_count": 2,
   "id": "f0eeb297-0776-471b-80e1-50e628e1660d",
   "metadata": {},
   "outputs": [],
   "source": [
    "boston = datasets.load_boston()"
   ]
  },
  {
   "cell_type": "code",
   "execution_count": 3,
   "id": "9de052c1-5c80-4c6a-9a6f-3ae7ca7cc2fa",
   "metadata": {},
   "outputs": [
    {
     "name": "stdout",
     "output_type": "stream",
     "text": [
      ".. _boston_dataset:\n",
      "\n",
      "Boston house prices dataset\n",
      "---------------------------\n",
      "\n",
      "**Data Set Characteristics:**  \n",
      "\n",
      "    :Number of Instances: 506 \n",
      "\n",
      "    :Number of Attributes: 13 numeric/categorical predictive. Median Value (attribute 14) is usually the target.\n",
      "\n",
      "    :Attribute Information (in order):\n",
      "        - CRIM     per capita crime rate by town\n",
      "        - ZN       proportion of residential land zoned for lots over 25,000 sq.ft.\n",
      "        - INDUS    proportion of non-retail business acres per town\n",
      "        - CHAS     Charles River dummy variable (= 1 if tract bounds river; 0 otherwise)\n",
      "        - NOX      nitric oxides concentration (parts per 10 million)\n",
      "        - RM       average number of rooms per dwelling\n",
      "        - AGE      proportion of owner-occupied units built prior to 1940\n",
      "        - DIS      weighted distances to five Boston employment centres\n",
      "        - RAD      index of accessibility to radial highways\n",
      "        - TAX      full-value property-tax rate per $10,000\n",
      "        - PTRATIO  pupil-teacher ratio by town\n",
      "        - B        1000(Bk - 0.63)^2 where Bk is the proportion of black people by town\n",
      "        - LSTAT    % lower status of the population\n",
      "        - MEDV     Median value of owner-occupied homes in $1000's\n",
      "\n",
      "    :Missing Attribute Values: None\n",
      "\n",
      "    :Creator: Harrison, D. and Rubinfeld, D.L.\n",
      "\n",
      "This is a copy of UCI ML housing dataset.\n",
      "https://archive.ics.uci.edu/ml/machine-learning-databases/housing/\n",
      "\n",
      "\n",
      "This dataset was taken from the StatLib library which is maintained at Carnegie Mellon University.\n",
      "\n",
      "The Boston house-price data of Harrison, D. and Rubinfeld, D.L. 'Hedonic\n",
      "prices and the demand for clean air', J. Environ. Economics & Management,\n",
      "vol.5, 81-102, 1978.   Used in Belsley, Kuh & Welsch, 'Regression diagnostics\n",
      "...', Wiley, 1980.   N.B. Various transformations are used in the table on\n",
      "pages 244-261 of the latter.\n",
      "\n",
      "The Boston house-price data has been used in many machine learning papers that address regression\n",
      "problems.   \n",
      "     \n",
      ".. topic:: References\n",
      "\n",
      "   - Belsley, Kuh & Welsch, 'Regression diagnostics: Identifying Influential Data and Sources of Collinearity', Wiley, 1980. 244-261.\n",
      "   - Quinlan,R. (1993). Combining Instance-Based and Model-Based Learning. In Proceedings on the Tenth International Conference of Machine Learning, 236-243, University of Massachusetts, Amherst. Morgan Kaufmann.\n",
      "\n"
     ]
    }
   ],
   "source": [
    "print(boston.DESCR)"
   ]
  },
  {
   "cell_type": "code",
   "execution_count": 4,
   "id": "22982011-ffa3-4da3-ab40-09f0ef8e82c9",
   "metadata": {},
   "outputs": [],
   "source": [
    "# Separando os dados\n",
    "X = boston.data\n",
    "y = boston.target"
   ]
  },
  {
   "cell_type": "code",
   "execution_count": 5,
   "id": "afa3d1b9-35e3-4588-aab1-9ed50737f9ae",
   "metadata": {},
   "outputs": [
    {
     "data": {
      "text/plain": [
       "(506, 13)"
      ]
     },
     "execution_count": 5,
     "metadata": {},
     "output_type": "execute_result"
    }
   ],
   "source": [
    "X.shape"
   ]
  },
  {
   "cell_type": "code",
   "execution_count": 6,
   "id": "37f143b4-a7b5-4c31-9ccc-01004ab2b64e",
   "metadata": {},
   "outputs": [
    {
     "data": {
      "text/plain": [
       "array(['CRIM', 'ZN', 'INDUS', 'CHAS', 'NOX', 'RM', 'AGE', 'DIS', 'RAD',\n",
       "       'TAX', 'PTRATIO', 'B', 'LSTAT'], dtype='<U7')"
      ]
     },
     "execution_count": 6,
     "metadata": {},
     "output_type": "execute_result"
    }
   ],
   "source": [
    "boston.feature_names"
   ]
  },
  {
   "cell_type": "code",
   "execution_count": 7,
   "id": "7504073f-2690-4d97-bee2-caf923eb0531",
   "metadata": {},
   "outputs": [],
   "source": [
    "X_train, X_test, y_train, y_test = train_test_split(X, y, test_size = 0.3, random_state=42)"
   ]
  },
  {
   "cell_type": "code",
   "execution_count": null,
   "id": "b96026dc-249d-4d78-beb3-e634a050c626",
   "metadata": {},
   "outputs": [],
   "source": []
  },
  {
   "cell_type": "markdown",
   "id": "29fd7352-050e-4f59-9d88-30e3a33c70ed",
   "metadata": {},
   "source": [
    "## 1. Dado o código a seguir (Fonte: Datacamp - Curso Supervised Learning with scikit-learn), use a regressão Lasso, que usa regularização L1, sobre o dataset Boston House Prices (sklearn.datasets.load_boston) para:"
   ]
  },
  {
   "cell_type": "code",
   "execution_count": 8,
   "id": "d1786db1-eae2-42eb-84c0-fc94f58597aa",
   "metadata": {},
   "outputs": [],
   "source": [
    "from sklearn.linear_model import Lasso"
   ]
  },
  {
   "cell_type": "code",
   "execution_count": null,
   "id": "33570f76-0583-4a5b-9e4e-367db6def079",
   "metadata": {},
   "outputs": [],
   "source": []
  },
  {
   "cell_type": "markdown",
   "id": "5fb3a1f5-ad40-4664-b7c0-1117c2f158f5",
   "metadata": {},
   "source": [
    "## a) Mostre os coeficientes para alpha=0.1 e normalize=True. Mostre também para normalize=False."
   ]
  },
  {
   "cell_type": "markdown",
   "id": "3b08e8de-064d-47db-96ed-2ab0f6f34766",
   "metadata": {},
   "source": [
    "### a.1) normalize=True"
   ]
  },
  {
   "cell_type": "code",
   "execution_count": 9,
   "id": "3bc768f2-449e-4f9a-a310-ff7e17ee91db",
   "metadata": {},
   "outputs": [
    {
     "data": {
      "text/plain": [
       "Lasso(alpha=0.1, normalize=True)"
      ]
     },
     "execution_count": 9,
     "metadata": {},
     "output_type": "execute_result"
    }
   ],
   "source": [
    "lasso = Lasso(alpha=0.1, normalize=True)\n",
    "lasso.fit(X_train, y_train)"
   ]
  },
  {
   "cell_type": "code",
   "execution_count": 10,
   "id": "c0f5c6c1-68c8-4866-a26d-91987c7adc41",
   "metadata": {},
   "outputs": [],
   "source": [
    "lasso_pred = lasso.predict(X_test)"
   ]
  },
  {
   "cell_type": "code",
   "execution_count": 11,
   "id": "0852cf84-5cfa-4aa5-9ae1-f85e83bb052a",
   "metadata": {},
   "outputs": [
    {
     "data": {
      "text/plain": [
       "0.5950229535328548"
      ]
     },
     "execution_count": 11,
     "metadata": {},
     "output_type": "execute_result"
    }
   ],
   "source": [
    "lasso.score(X_test, y_test)"
   ]
  },
  {
   "cell_type": "code",
   "execution_count": 12,
   "id": "3213ac5e-74cc-437c-ad8e-69255fe0b4b7",
   "metadata": {},
   "outputs": [
    {
     "data": {
      "text/plain": [
       "array([-0.        ,  0.        , -0.        ,  0.        , -0.        ,\n",
       "        3.18852894, -0.        , -0.        , -0.        , -0.        ,\n",
       "       -0.3066901 ,  0.        , -0.48666476])"
      ]
     },
     "execution_count": 12,
     "metadata": {},
     "output_type": "execute_result"
    }
   ],
   "source": [
    "lasso.coef_"
   ]
  },
  {
   "cell_type": "code",
   "execution_count": 13,
   "id": "9b701446-2abb-4ae4-8a72-3f169fa59ee6",
   "metadata": {},
   "outputs": [
    {
     "data": {
      "image/png": "[encoded data removed]",
      "text/plain": [
       "<Figure size 432x288 with 1 Axes>"
      ]
     },
     "metadata": {
      "needs_background": "light"
     },
     "output_type": "display_data"
    }
   ],
   "source": [
    "plt.bar(boston.feature_names, lasso.coef_)\n",
    "plt.axhline(0, color='grey', linewidth=0.8)\n",
    "plt.xticks(rotation=45);"
   ]
  },
  {
   "cell_type": "code",
   "execution_count": null,
   "id": "d46088a2-191b-4079-a00f-a4d845a96f30",
   "metadata": {},
   "outputs": [],
   "source": []
  },
  {
   "cell_type": "markdown",
   "id": "4bd086e9-e0dc-4e17-b4f0-7bbc84f2f339",
   "metadata": {},
   "source": [
    "### a.2) normalize=False"
   ]
  },
  {
   "cell_type": "code",
   "execution_count": 14,
   "id": "929bfb47-4d3b-45af-a256-86737502df00",
   "metadata": {},
   "outputs": [
    {
     "data": {
      "text/plain": [
       "Lasso(alpha=0.1)"
      ]
     },
     "execution_count": 14,
     "metadata": {},
     "output_type": "execute_result"
    }
   ],
   "source": [
    "lasso = Lasso(alpha=0.1, normalize=False)\n",
    "lasso.fit(X_train, y_train)"
   ]
  },
  {
   "cell_type": "code",
   "execution_count": 15,
   "id": "0c0fbe97-90bc-4609-bbce-a4a155df85f7",
   "metadata": {},
   "outputs": [],
   "source": [
    "lasso_pred = lasso.predict(X_test)"
   ]
  },
  {
   "cell_type": "code",
   "execution_count": 16,
   "id": "9d23ea4e-1e6e-4da5-beea-43a12b331fd3",
   "metadata": {},
   "outputs": [
    {
     "data": {
      "text/plain": [
       "0.6918147952283056"
      ]
     },
     "execution_count": 16,
     "metadata": {},
     "output_type": "execute_result"
    }
   ],
   "source": [
    "lasso.score(X_test, y_test)"
   ]
  },
  {
   "cell_type": "code",
   "execution_count": 17,
   "id": "6d9424cc-3b12-4a3e-8297-31ab6c62bb90",
   "metadata": {},
   "outputs": [
    {
     "data": {
      "text/plain": [
       "array([-1.22854422e-01,  3.86385849e-02, -4.97188385e-04,  1.48353759e+00,\n",
       "       -0.00000000e+00,  3.89367421e+00, -1.96048179e-02, -1.10561397e+00,\n",
       "        2.16673479e-01, -1.05844004e-02, -7.44014516e-01,  1.23959059e-02,\n",
       "       -6.02281637e-01])"
      ]
     },
     "execution_count": 17,
     "metadata": {},
     "output_type": "execute_result"
    }
   ],
   "source": [
    "lasso.coef_"
   ]
  },
  {
   "cell_type": "code",
   "execution_count": 18,
   "id": "0b7aba8c-10b8-425d-a6aa-4b60c0d4d18c",
   "metadata": {},
   "outputs": [
    {
     "data": {
      "image/png": "[encoded data removed]",
      "text/plain": [
       "<Figure size 432x288 with 1 Axes>"
      ]
     },
     "metadata": {
      "needs_background": "light"
     },
     "output_type": "display_data"
    }
   ],
   "source": [
    "plt.bar(boston.feature_names, lasso.coef_)\n",
    "plt.axhline(0, color='grey', linewidth=0.8)\n",
    "plt.xticks(rotation=45);"
   ]
  },
  {
   "cell_type": "code",
   "execution_count": null,
   "id": "1cdbba04-5940-4400-a1a5-87d5b8b0a3c0",
   "metadata": {},
   "outputs": [],
   "source": []
  },
  {
   "cell_type": "markdown",
   "id": "830c5f6f-0789-4397-9355-9bfc99919528",
   "metadata": {},
   "source": [
    "## b) Mostre os coeficientes para alpha=0.4 e normalize=True. Mostre também para normalize=False."
   ]
  },
  {
   "cell_type": "markdown",
   "id": "68b1be14-6653-42af-976c-d87c24c85d93",
   "metadata": {},
   "source": [
    "### b.1) normalize=True"
   ]
  },
  {
   "cell_type": "code",
   "execution_count": 19,
   "id": "25598afd-49db-4e53-a4e6-bba06a0167bf",
   "metadata": {},
   "outputs": [
    {
     "data": {
      "text/plain": [
       "Lasso(alpha=0.4, normalize=True)"
      ]
     },
     "execution_count": 19,
     "metadata": {},
     "output_type": "execute_result"
    }
   ],
   "source": [
    "lasso = Lasso(alpha=0.4, normalize=True)\n",
    "lasso.fit(X_train, y_train)"
   ]
  },
  {
   "cell_type": "code",
   "execution_count": 20,
   "id": "da299b01-ab94-4bdb-99ac-b38b6e33bea8",
   "metadata": {},
   "outputs": [],
   "source": [
    "lasso_pred = lasso.predict(X_test)"
   ]
  },
  {
   "cell_type": "code",
   "execution_count": 21,
   "id": "5d82fb83-63ce-41a3-aac7-370882276bb8",
   "metadata": {},
   "outputs": [
    {
     "data": {
      "text/plain": [
       "-0.03469753992352409"
      ]
     },
     "execution_count": 21,
     "metadata": {},
     "output_type": "execute_result"
    }
   ],
   "source": [
    "lasso.score(X_test, y_test)"
   ]
  },
  {
   "cell_type": "code",
   "execution_count": 22,
   "id": "891ddfc1-2263-4112-8dfc-3ac90b7b52f8",
   "metadata": {},
   "outputs": [
    {
     "data": {
      "text/plain": [
       "array([-0.,  0., -0.,  0., -0.,  0., -0.,  0., -0., -0., -0.,  0., -0.])"
      ]
     },
     "execution_count": 22,
     "metadata": {},
     "output_type": "execute_result"
    }
   ],
   "source": [
    "lasso.coef_"
   ]
  },
  {
   "cell_type": "code",
   "execution_count": 23,
   "id": "f7ee6ac2-a9ad-4b24-be12-0a99d7bb3076",
   "metadata": {},
   "outputs": [
    {
     "data": {
      "image/png": "[encoded data removed]",
      "text/plain": [
       "<Figure size 432x288 with 1 Axes>"
      ]
     },
     "metadata": {
      "needs_background": "light"
     },
     "output_type": "display_data"
    }
   ],
   "source": [
    "plt.bar(boston.feature_names, lasso.coef_)\n",
    "plt.axhline(0, color='grey', linewidth=0.8)\n",
    "plt.xticks(rotation=45);"
   ]
  },
  {
   "cell_type": "code",
   "execution_count": null,
   "id": "bb37f05f-5b8d-41df-86c9-96bffb940b79",
   "metadata": {},
   "outputs": [],
   "source": []
  },
  {
   "cell_type": "markdown",
   "id": "76ce5e8c-caf1-4d1d-b8f5-dfddd28cfe2c",
   "metadata": {},
   "source": [
    "### b.2) normalize=False"
   ]
  },
  {
   "cell_type": "code",
   "execution_count": 24,
   "id": "a8f22f22-ceb7-4bb7-a973-75aee17c0008",
   "metadata": {},
   "outputs": [
    {
     "data": {
      "text/plain": [
       "Lasso(alpha=0.4)"
      ]
     },
     "execution_count": 24,
     "metadata": {},
     "output_type": "execute_result"
    }
   ],
   "source": [
    "lasso = Lasso(alpha=0.4, normalize=False)\n",
    "lasso.fit(X_train, y_train)"
   ]
  },
  {
   "cell_type": "code",
   "execution_count": 25,
   "id": "fb6c89c6-9cd9-439c-884a-21a305ec87fb",
   "metadata": {},
   "outputs": [],
   "source": [
    "lasso_pred = lasso.predict(X_test)"
   ]
  },
  {
   "cell_type": "code",
   "execution_count": 26,
   "id": "f5baf2e8-0be5-43b3-aaff-2da53f18d777",
   "metadata": {},
   "outputs": [
    {
     "data": {
      "text/plain": [
       "0.6868261870937583"
      ]
     },
     "execution_count": 26,
     "metadata": {},
     "output_type": "execute_result"
    }
   ],
   "source": [
    "lasso.score(X_test, y_test)"
   ]
  },
  {
   "cell_type": "code",
   "execution_count": 27,
   "id": "328ef890-97c2-4d27-8699-927b343d55ab",
   "metadata": {},
   "outputs": [
    {
     "data": {
      "text/plain": [
       "array([-0.11576163,  0.0382639 , -0.        ,  0.        , -0.        ,\n",
       "        3.02904787, -0.00594293, -0.94591883,  0.21832368, -0.0105426 ,\n",
       "       -0.73995647,  0.01213879, -0.66980952])"
      ]
     },
     "execution_count": 27,
     "metadata": {},
     "output_type": "execute_result"
    }
   ],
   "source": [
    "lasso.coef_"
   ]
  },
  {
   "cell_type": "code",
   "execution_count": 28,
   "id": "26f9dafd-77b2-4d03-bd12-978546a3538d",
   "metadata": {},
   "outputs": [
    {
     "data": {
      "image/png": "[encoded data removed]",
      "text/plain": [
       "<Figure size 432x288 with 1 Axes>"
      ]
     },
     "metadata": {
      "needs_background": "light"
     },
     "output_type": "display_data"
    }
   ],
   "source": [
    "plt.bar(boston.feature_names, lasso.coef_)\n",
    "plt.axhline(0, color='grey', linewidth=0.8)\n",
    "plt.xticks(rotation=45);"
   ]
  },
  {
   "cell_type": "code",
   "execution_count": null,
   "id": "05748f19-2b05-44aa-b46e-81fd20f48dd5",
   "metadata": {},
   "outputs": [],
   "source": []
  },
  {
   "cell_type": "markdown",
   "id": "f1c66e26-574a-44d6-a589-ba747996aec8",
   "metadata": {},
   "source": [
    "## c) Houve feature(s) removida(s) em alguma configuração acima? Qual(is)?"
   ]
  },
  {
   "cell_type": "markdown",
   "id": "c6fa5acf-d954-47be-9f20-b137fadf05aa",
   "metadata": {},
   "source": [
    "### alpha=0.1 e normalize=True\n",
    "Feature removidas: 'CRIM', 'ZN', 'INDUS', 'CHAS', 'NOX', 'AGE', 'DIS', 'RAD', 'TAX', 'B'\n",
    "\n",
    "### alpha=0.1 e normalize=False\n",
    "Feature removidas: 'NOX'\n",
    "\n",
    "### alpha=0.4 e normalize=True\n",
    "Feature removidas: 'CRIM', 'ZN', 'INDUS', 'CHAS', 'NOX', 'RM', 'AGE', 'DIS', 'RAD', 'TAX', 'PTRATIO', 'B', 'LSTAT'\n",
    "\n",
    "### alpha=0.4 e normalize=False\n",
    "Feature removidas: 'INDUS', 'CHAS', 'NOX'"
   ]
  },
  {
   "cell_type": "code",
   "execution_count": null,
   "id": "3c59a947-23e1-4267-bcb6-9136aa6aee61",
   "metadata": {},
   "outputs": [],
   "source": []
  },
  {
   "cell_type": "markdown",
   "id": "cf31ad93-2e43-4a56-9073-f4f0390c0a52",
   "metadata": {},
   "source": [
    "# 2. Dado o código a seguir (Fonte: Datacamp - Curso Supervised Learning with scikit-learn), use a regressão Ridge, que usa regularização L2, sobre o dataset Boston House Prices (sklearn.datasets.load_boston) para:"
   ]
  },
  {
   "cell_type": "code",
   "execution_count": 29,
   "id": "e51edcf1-d782-4d92-b1f1-fb6213853464",
   "metadata": {},
   "outputs": [],
   "source": [
    "from sklearn.linear_model import Ridge"
   ]
  },
  {
   "cell_type": "code",
   "execution_count": null,
   "id": "1e1de701-ef45-41f7-ae77-20c154a8069c",
   "metadata": {},
   "outputs": [],
   "source": []
  },
  {
   "cell_type": "markdown",
   "id": "388fe51e-6138-4643-a349-6cfcddb7a7b4",
   "metadata": {},
   "source": [
    "### a) Adapte o código acima para mostrar em um gráfico os scores (R^2) sobre o conjunto de teste para os seguintes valores de alpha: [1.e-04, 1.e-03, 1.e-02, 1.e-01, 1.e+00]. Use normalize=True. Esses valores de alpha podem ser facilmente obtidos no numpy usando: valores_alpha = np.logspace(-4, 0, 5)."
   ]
  },
  {
   "cell_type": "code",
   "execution_count": 30,
   "id": "81818a47-a874-4994-b071-782b4115bdf7",
   "metadata": {},
   "outputs": [],
   "source": [
    "valores_alpha = np.logspace(-4, 0, 5)"
   ]
  },
  {
   "cell_type": "code",
   "execution_count": 31,
   "id": "79908690-03cf-4b48-b973-5a16eed6f9c5",
   "metadata": {},
   "outputs": [],
   "source": [
    "result = []\n",
    "for alpha in valores_alpha:\n",
    "    ridge = Ridge(alpha=alpha, normalize=True)\n",
    "    ridge.fit(X_train, y_train)\n",
    "    ridge_pred = ridge.predict(X_test)\n",
    "    res = ridge.score(X_test, y_test)\n",
    "    result.append(res)"
   ]
  },
  {
   "cell_type": "code",
   "execution_count": 32,
   "id": "3d2de054-603b-43a2-8250-c2e52ca13787",
   "metadata": {},
   "outputs": [
    {
     "data": {
      "text/plain": [
       "[0.7112111590981025,\n",
       " 0.7110775704734216,\n",
       " 0.7097594050919812,\n",
       " 0.6996938275127313,\n",
       " 0.6241064474736235]"
      ]
     },
     "execution_count": 32,
     "metadata": {},
     "output_type": "execute_result"
    }
   ],
   "source": [
    "result"
   ]
  },
  {
   "cell_type": "code",
   "execution_count": 33,
   "id": "e19b8388-6153-4512-9d3f-894408067832",
   "metadata": {},
   "outputs": [
    {
     "data": {
      "image/png": "[encoded data removed]",
      "text/plain": [
       "<Figure size 432x288 with 1 Axes>"
      ]
     },
     "metadata": {
      "needs_background": "light"
     },
     "output_type": "display_data"
    }
   ],
   "source": [
    "plt.scatter(valores_alpha, result)\n",
    "plt.plot(valores_alpha, result, c='r')\n",
    "plt.grid()\n",
    "plt.xlabel('Alpha')\n",
    "plt.ylabel('Score');"
   ]
  },
  {
   "cell_type": "code",
   "execution_count": null,
   "id": "babfdd35-7ecd-45b6-ab4f-55eb3fb21a24",
   "metadata": {},
   "outputs": [],
   "source": []
  },
  {
   "cell_type": "markdown",
   "id": "9e7d1667-7453-40a9-807b-bdb14d21b20d",
   "metadata": {},
   "source": [
    "### b) Mostre o mesmo para normalize=False."
   ]
  },
  {
   "cell_type": "code",
   "execution_count": 34,
   "id": "e89cf321-91ff-4245-96b3-d77c5fc4a19c",
   "metadata": {},
   "outputs": [],
   "source": [
    "valores_alpha = np.logspace(-4, 0, 5)"
   ]
  },
  {
   "cell_type": "code",
   "execution_count": 35,
   "id": "8de118ad-fd19-4403-82a3-b1b0e34a8273",
   "metadata": {},
   "outputs": [],
   "source": [
    "result = []\n",
    "for alpha in valores_alpha:\n",
    "    ridge = Ridge(alpha=alpha, normalize=False)\n",
    "    ridge.fit(X_train, y_train)\n",
    "    ridge_pred = ridge.predict(X_test)\n",
    "    res = ridge.score(X_test, y_test)\n",
    "    result.append(res)"
   ]
  },
  {
   "cell_type": "code",
   "execution_count": 36,
   "id": "df21ba97-83c7-4c4e-8f9f-6d0b67068ee4",
   "metadata": {},
   "outputs": [
    {
     "data": {
      "text/plain": [
       "[0.7112250981524468,\n",
       " 0.711216928951723,\n",
       " 0.7111351633163309,\n",
       " 0.7103178206391327,\n",
       " 0.7041586727559436]"
      ]
     },
     "execution_count": 36,
     "metadata": {},
     "output_type": "execute_result"
    }
   ],
   "source": [
    "result"
   ]
  },
  {
   "cell_type": "code",
   "execution_count": 37,
   "id": "b70fed71-ddf9-4237-95cf-7c526284c94b",
   "metadata": {},
   "outputs": [
    {
     "data": {
      "image/png": "[encoded data removed]",
      "text/plain": [
       "<Figure size 432x288 with 1 Axes>"
      ]
     },
     "metadata": {
      "needs_background": "light"
     },
     "output_type": "display_data"
    }
   ],
   "source": [
    "plt.scatter(valores_alpha, result)\n",
    "plt.plot(valores_alpha, result, c='r')\n",
    "plt.grid()\n",
    "plt.xlabel('Alpha')\n",
    "plt.ylabel('Score');"
   ]
  },
  {
   "cell_type": "code",
   "execution_count": null,
   "id": "ca8d69e0-8c80-45db-bf94-99b78a96a41d",
   "metadata": {},
   "outputs": [],
   "source": []
  },
  {
   "cell_type": "markdown",
   "id": "bc03e317-ef61-412f-b43d-1ab942b76d06",
   "metadata": {},
   "source": [
    "### c) Agora pegue os hiperparâmetros do melhor resultado que você obteve. Treine um novo modelo usando-os, mas mudando agora a quantidade de épocas (hiperparâmetro max_iter) para apenas 10 (o valor default é 1000). Qual o score R^2 sobre o conjunto de teste para o novo modelo?"
   ]
  },
  {
   "cell_type": "code",
   "execution_count": 38,
   "id": "387a71f6-19a6-4152-8574-62f31ee6fdbc",
   "metadata": {},
   "outputs": [
    {
     "data": {
      "text/plain": [
       "Ridge(alpha=0.0001, max_iter=10)"
      ]
     },
     "execution_count": 38,
     "metadata": {},
     "output_type": "execute_result"
    }
   ],
   "source": [
    "ridge = Ridge(alpha=valores_alpha[0], normalize=False, max_iter=10)\n",
    "ridge.fit(X_train, y_train)"
   ]
  },
  {
   "cell_type": "code",
   "execution_count": 39,
   "id": "9694be2d-c796-44de-8268-60a75ae33303",
   "metadata": {},
   "outputs": [],
   "source": [
    "ridge_pred = ridge.predict(X_test)"
   ]
  },
  {
   "cell_type": "code",
   "execution_count": 40,
   "id": "0d8df3cd-b5af-4c37-ac6b-0d72246ef406",
   "metadata": {},
   "outputs": [
    {
     "data": {
      "text/plain": [
       "0.7112250981524468"
      ]
     },
     "execution_count": 40,
     "metadata": {},
     "output_type": "execute_result"
    }
   ],
   "source": [
    "ridge.score(X_test, y_test)"
   ]
  },
  {
   "cell_type": "code",
   "execution_count": null,
   "id": "9eb5983c-c3f8-4686-a577-6182e4bbb625",
   "metadata": {},
   "outputs": [],
   "source": []
  },
  {
   "cell_type": "code",
   "execution_count": null,
   "id": "1e8f6a9b-d993-438a-b468-b2b5657254e5",
   "metadata": {},
   "outputs": [],
   "source": []
  }
 ],
 "metadata": {
  "kernelspec": {
   "display_name": "Python 3 (ipykernel)",
   "language": "python",
   "name": "python3"
  },
  "language_info": {
   "codemirror_mode": {
    "name": "ipython",
    "version": 3
   },
   "file_extension": ".py",
   "mimetype": "text/x-python",
   "name": "python",
   "nbconvert_exporter": "python",
   "pygments_lexer": "ipython3",
   "version": "3.8.10"
  }
 },
 "nbformat": 4,
 "nbformat_minor": 5
}
