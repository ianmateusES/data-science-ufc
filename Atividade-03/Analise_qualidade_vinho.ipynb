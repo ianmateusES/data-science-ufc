{
 "cells": [
  {
   "cell_type": "code",
   "execution_count": 1,
   "id": "described-prototype",
   "metadata": {},
   "outputs": [],
   "source": [
    "import pandas as pd\n",
    "import numpy as np\n",
    "import matplotlib.pyplot as plt\n",
    "from sklearn.neighbors import KNeighborsClassifier \n",
    "from sklearn.model_selection import train_test_split\n",
    "\n",
    "from sklearn.preprocessing import MinMaxScaler"
   ]
  },
  {
   "cell_type": "code",
   "execution_count": 2,
   "id": "blind-georgia",
   "metadata": {},
   "outputs": [],
   "source": [
    "df = pd.read_csv(\"winequality-white.csv\", sep=\";\")"
   ]
  },
  {
   "cell_type": "code",
   "execution_count": 3,
   "id": "plain-sequence",
   "metadata": {},
   "outputs": [
    {
     "data": {
      "text/html": [
       "<div>\n",
       "<style scoped>\n",
       "    .dataframe tbody tr th:only-of-type {\n",
       "        vertical-align: middle;\n",
       "    }\n",
       "\n",
       "    .dataframe tbody tr th {\n",
       "        vertical-align: top;\n",
       "    }\n",
       "\n",
       "    .dataframe thead th {\n",
       "        text-align: right;\n",
       "    }\n",
       "</style>\n",
       "<table border=\"1\" class=\"dataframe\">\n",
       "  <thead>\n",
       "    <tr style=\"text-align: right;\">\n",
       "      <th></th>\n",
       "      <th>fixed acidity</th>\n",
       "      <th>volatile acidity</th>\n",
       "      <th>citric acid</th>\n",
       "      <th>residual sugar</th>\n",
       "      <th>chlorides</th>\n",
       "      <th>free sulfur dioxide</th>\n",
       "      <th>total sulfur dioxide</th>\n",
       "      <th>density</th>\n",
       "      <th>pH</th>\n",
       "      <th>sulphates</th>\n",
       "      <th>alcohol</th>\n",
       "      <th>quality</th>\n",
       "    </tr>\n",
       "  </thead>\n",
       "  <tbody>\n",
       "    <tr>\n",
       "      <th>0</th>\n",
       "      <td>7.0</td>\n",
       "      <td>0.27</td>\n",
       "      <td>0.36</td>\n",
       "      <td>20.7</td>\n",
       "      <td>0.045</td>\n",
       "      <td>45.0</td>\n",
       "      <td>170.0</td>\n",
       "      <td>1.0010</td>\n",
       "      <td>3.00</td>\n",
       "      <td>0.45</td>\n",
       "      <td>8.8</td>\n",
       "      <td>6</td>\n",
       "    </tr>\n",
       "    <tr>\n",
       "      <th>1</th>\n",
       "      <td>6.3</td>\n",
       "      <td>0.30</td>\n",
       "      <td>0.34</td>\n",
       "      <td>1.6</td>\n",
       "      <td>0.049</td>\n",
       "      <td>14.0</td>\n",
       "      <td>132.0</td>\n",
       "      <td>0.9940</td>\n",
       "      <td>3.30</td>\n",
       "      <td>0.49</td>\n",
       "      <td>9.5</td>\n",
       "      <td>6</td>\n",
       "    </tr>\n",
       "    <tr>\n",
       "      <th>2</th>\n",
       "      <td>8.1</td>\n",
       "      <td>0.28</td>\n",
       "      <td>0.40</td>\n",
       "      <td>6.9</td>\n",
       "      <td>0.050</td>\n",
       "      <td>30.0</td>\n",
       "      <td>97.0</td>\n",
       "      <td>0.9951</td>\n",
       "      <td>3.26</td>\n",
       "      <td>0.44</td>\n",
       "      <td>10.1</td>\n",
       "      <td>6</td>\n",
       "    </tr>\n",
       "    <tr>\n",
       "      <th>3</th>\n",
       "      <td>7.2</td>\n",
       "      <td>0.23</td>\n",
       "      <td>0.32</td>\n",
       "      <td>8.5</td>\n",
       "      <td>0.058</td>\n",
       "      <td>47.0</td>\n",
       "      <td>186.0</td>\n",
       "      <td>0.9956</td>\n",
       "      <td>3.19</td>\n",
       "      <td>0.40</td>\n",
       "      <td>9.9</td>\n",
       "      <td>6</td>\n",
       "    </tr>\n",
       "    <tr>\n",
       "      <th>4</th>\n",
       "      <td>7.2</td>\n",
       "      <td>0.23</td>\n",
       "      <td>0.32</td>\n",
       "      <td>8.5</td>\n",
       "      <td>0.058</td>\n",
       "      <td>47.0</td>\n",
       "      <td>186.0</td>\n",
       "      <td>0.9956</td>\n",
       "      <td>3.19</td>\n",
       "      <td>0.40</td>\n",
       "      <td>9.9</td>\n",
       "      <td>6</td>\n",
       "    </tr>\n",
       "  </tbody>\n",
       "</table>\n",
       "</div>"
      ],
      "text/plain": [
       "   fixed acidity  volatile acidity  citric acid  residual sugar  chlorides  \\\n",
       "0            7.0              0.27         0.36            20.7      0.045   \n",
       "1            6.3              0.30         0.34             1.6      0.049   \n",
       "2            8.1              0.28         0.40             6.9      0.050   \n",
       "3            7.2              0.23         0.32             8.5      0.058   \n",
       "4            7.2              0.23         0.32             8.5      0.058   \n",
       "\n",
       "   free sulfur dioxide  total sulfur dioxide  density    pH  sulphates  \\\n",
       "0                 45.0                 170.0   1.0010  3.00       0.45   \n",
       "1                 14.0                 132.0   0.9940  3.30       0.49   \n",
       "2                 30.0                  97.0   0.9951  3.26       0.44   \n",
       "3                 47.0                 186.0   0.9956  3.19       0.40   \n",
       "4                 47.0                 186.0   0.9956  3.19       0.40   \n",
       "\n",
       "   alcohol  quality  \n",
       "0      8.8        6  \n",
       "1      9.5        6  \n",
       "2     10.1        6  \n",
       "3      9.9        6  \n",
       "4      9.9        6  "
      ]
     },
     "execution_count": 3,
     "metadata": {},
     "output_type": "execute_result"
    }
   ],
   "source": [
    "df.head()"
   ]
  },
  {
   "cell_type": "markdown",
   "id": "integral-salon",
   "metadata": {},
   "source": [
    "## 2.1. Exiba a quantidade de amostras existente em cada classe de vinho, onde as classes são representadas por valores inteiros entre 0 e 10."
   ]
  },
  {
   "cell_type": "code",
   "execution_count": 4,
   "id": "collectible-atlantic",
   "metadata": {},
   "outputs": [
    {
     "data": {
      "text/plain": [
       "Text(0, 0.5, 'Quantidade')"
      ]
     },
     "execution_count": 4,
     "metadata": {},
     "output_type": "execute_result"
    },
    {
     "data": {
      "image/png": "[encoded data removed]",
      "text/plain": [
       "<Figure size 432x288 with 1 Axes>"
      ]
     },
     "metadata": {
      "needs_background": "light"
     },
     "output_type": "display_data"
    }
   ],
   "source": [
    "df['quality'].value_counts().plot.bar(rot=0)\n",
    "plt.xlabel('Qualidade')\n",
    "plt.ylabel('Quantidade')"
   ]
  },
  {
   "cell_type": "markdown",
   "id": "metropolitan-execution",
   "metadata": {},
   "source": [
    "## 2.2. Separe 70% dos dados para treino (conjunto de treino) e 30% dos dados para teste (conjunto de teste)."
   ]
  },
  {
   "cell_type": "code",
   "execution_count": 5,
   "id": "assumed-murray",
   "metadata": {},
   "outputs": [],
   "source": [
    "X = df.drop(columns=['quality'], axis=1)\n",
    "y = df['quality']"
   ]
  },
  {
   "cell_type": "code",
   "execution_count": 6,
   "id": "attractive-penguin",
   "metadata": {},
   "outputs": [],
   "source": [
    "X_train, X_test, y_train, y_test = train_test_split(X, y, train_size=0.7, random_state=42)"
   ]
  },
  {
   "cell_type": "markdown",
   "id": "elegant-knitting",
   "metadata": {},
   "source": [
    "## 2.3. Crie diferentes modelos de classificação de vinho usando o kNN com diferentes valores de k."
   ]
  },
  {
   "cell_type": "code",
   "execution_count": 7,
   "id": "equipped-template",
   "metadata": {},
   "outputs": [
    {
     "data": {
      "image/png": "[encoded data removed]",
      "text/plain": [
       "<Figure size 432x288 with 1 Axes>"
      ]
     },
     "metadata": {
      "needs_background": "light"
     },
     "output_type": "display_data"
    }
   ],
   "source": [
    "neighbors = np.arange(1, 50)\n",
    "\n",
    "acc = np.empty(len(neighbors))\n",
    "\n",
    "for i, k in enumerate(neighbors):\n",
    "    kn = KNeighborsClassifier(n_neighbors=k)\n",
    "    kn.fit(X_train, y_train)\n",
    "    y_pred = kn.predict(X_test)\n",
    "    accuracy = sum(y_pred == y_test)/len(y_test) * 100\n",
    "    acc[i] = accuracy\n",
    "    \n",
    "plt.title('Modelo KNN')\n",
    "plt.plot(neighbors, acc)\n",
    "plt.grid()\n",
    "plt.xlabel('Número de vizinhos')\n",
    "plt.ylabel('Accuracy')\n",
    "plt.show()"
   ]
  },
  {
   "cell_type": "markdown",
   "id": "middle-joyce",
   "metadata": {},
   "source": [
    "## Novos testes"
   ]
  },
  {
   "cell_type": "code",
   "execution_count": 8,
   "id": "adverse-chosen",
   "metadata": {},
   "outputs": [],
   "source": [
    "# Standartizando os dados\n",
    "X_minMax = MinMaxScaler().fit_transform(X) "
   ]
  },
  {
   "cell_type": "code",
   "execution_count": 9,
   "id": "reported-professional",
   "metadata": {},
   "outputs": [],
   "source": [
    "X_train, X_test, y_train, y_test = train_test_split(X_minMax, y, train_size=0.7, random_state=42)"
   ]
  },
  {
   "cell_type": "code",
   "execution_count": 10,
   "id": "practical-wrist",
   "metadata": {},
   "outputs": [
    {
     "data": {
      "image/png": "[encoded data removed]",
      "text/plain": [
       "<Figure size 432x288 with 1 Axes>"
      ]
     },
     "metadata": {
      "needs_background": "light"
     },
     "output_type": "display_data"
    }
   ],
   "source": [
    "neighbors = np.arange(1, 50)\n",
    "\n",
    "acc = np.empty(len(neighbors))\n",
    "\n",
    "for i, k in enumerate(neighbors):\n",
    "    kn = KNeighborsClassifier(n_neighbors=k)\n",
    "    kn.fit(X_train, y_train)\n",
    "    y_pred = kn.predict(X_test)\n",
    "    accuracy = sum(y_pred == y_test)/len(y_test) * 100\n",
    "    acc[i] = accuracy\n",
    "\n",
    "plt.title('Modelo KNN')\n",
    "plt.plot(neighbors, acc)\n",
    "plt.grid()\n",
    "plt.xlabel('Número de vizinhos')\n",
    "plt.ylabel('Accuracy')\n",
    "plt.show()"
   ]
  },
  {
   "cell_type": "markdown",
   "id": "involved-extent",
   "metadata": {},
   "source": [
    "## 2.4. Mostre os resultados de acurácia para os modelos criados. Qual o modelo com melhor acurácia?"
   ]
  },
  {
   "cell_type": "code",
   "execution_count": 11,
   "id": "skilled-diabetes",
   "metadata": {},
   "outputs": [
    {
     "name": "stdout",
     "output_type": "stream",
     "text": [
      "k=1  acurácia=61.7687074829932\n",
      "k=2  acurácia=56.054421768707485\n",
      "k=3  acurácia=56.4625850340136\n",
      "k=4  acurácia=55.306122448979586\n",
      "k=5  acurácia=55.10204081632652\n",
      "k=6  acurácia=54.5578231292517\n",
      "k=7  acurácia=54.625850340136054\n",
      "k=8  acurácia=54.14965986394557\n",
      "k=9  acurácia=54.14965986394557\n",
      "k=10  acurácia=52.925170068027214\n",
      "k=11  acurácia=53.605442176870746\n",
      "k=12  acurácia=53.945578231292515\n",
      "k=13  acurácia=53.605442176870746\n",
      "k=14  acurácia=54.35374149659864\n",
      "k=15  acurácia=53.945578231292515\n",
      "k=16  acurácia=53.673469387755105\n",
      "k=17  acurácia=53.74149659863946\n",
      "k=18  acurácia=54.625850340136054\n",
      "k=19  acurácia=55.10204081632652\n",
      "k=20  acurácia=55.034013605442176\n",
      "k=21  acurácia=54.421768707483\n",
      "k=22  acurácia=54.761904761904766\n",
      "k=23  acurácia=55.10204081632652\n",
      "k=24  acurácia=54.625850340136054\n",
      "k=25  acurácia=54.69387755102041\n",
      "k=26  acurácia=54.69387755102041\n",
      "k=27  acurácia=55.306122448979586\n",
      "k=28  acurácia=55.17006802721088\n",
      "k=29  acurácia=54.5578231292517\n",
      "k=30  acurácia=54.69387755102041\n",
      "k=31  acurácia=54.5578231292517\n",
      "k=32  acurácia=54.96598639455782\n",
      "k=33  acurácia=54.625850340136054\n",
      "k=34  acurácia=54.761904761904766\n",
      "k=35  acurácia=54.5578231292517\n",
      "k=36  acurácia=54.48979591836734\n",
      "k=37  acurácia=54.82993197278911\n",
      "k=38  acurácia=54.14965986394557\n",
      "k=39  acurácia=54.5578231292517\n",
      "k=40  acurácia=54.761904761904766\n",
      "k=41  acurácia=54.761904761904766\n",
      "k=42  acurácia=54.14965986394557\n",
      "k=43  acurácia=54.08163265306123\n",
      "k=44  acurácia=54.14965986394557\n",
      "k=45  acurácia=54.48979591836734\n",
      "k=46  acurácia=54.48979591836734\n",
      "k=47  acurácia=54.89795918367347\n",
      "k=48  acurácia=54.421768707483\n",
      "k=49  acurácia=54.82993197278911\n"
     ]
    }
   ],
   "source": [
    "for k, accuracy in enumerate(acc):\n",
    "    print(f'k={k+1}  acurácia={accuracy}')"
   ]
  },
  {
   "cell_type": "markdown",
   "id": "explicit-nothing",
   "metadata": {},
   "source": [
    "## O modelo com melhor acurácia é o que k=1"
   ]
  }
 ],
 "metadata": {
  "kernelspec": {
   "display_name": "Python 3",
   "language": "python",
   "name": "python3"
  },
  "language_info": {
   "codemirror_mode": {
    "name": "ipython",
    "version": 3
   },
   "file_extension": ".py",
   "mimetype": "text/x-python",
   "name": "python",
   "nbconvert_exporter": "python",
   "pygments_lexer": "ipython3",
   "version": "3.8.5"
  }
 },
 "nbformat": 4,
 "nbformat_minor": 5
}
