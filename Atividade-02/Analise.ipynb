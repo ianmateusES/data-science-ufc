{
 "cells": [
  {
   "cell_type": "code",
   "execution_count": 93,
   "id": "mediterranean-closure",
   "metadata": {},
   "outputs": [],
   "source": [
    "import pandas as pd\n",
    "import operator\n",
    "from sklearn import metrics\n",
    "from sklearn.model_selection import train_test_split"
   ]
  },
  {
   "cell_type": "code",
   "execution_count": 3,
   "id": "conceptual-produce",
   "metadata": {},
   "outputs": [],
   "source": [
    "df = pd.read_csv('Iris.csv', index_col='Id')"
   ]
  },
  {
   "cell_type": "markdown",
   "id": "international-medline",
   "metadata": {},
   "source": [
    "### 2.1. Exiba a quantidade de amostras existente em cada classe."
   ]
  },
  {
   "cell_type": "code",
   "execution_count": 4,
   "id": "behavioral-manner",
   "metadata": {},
   "outputs": [
    {
     "data": {
      "text/plain": [
       "Iris-setosa        50\n",
       "Iris-virginica     50\n",
       "Iris-versicolor    50\n",
       "Name: Species, dtype: int64"
      ]
     },
     "execution_count": 4,
     "metadata": {},
     "output_type": "execute_result"
    }
   ],
   "source": [
    "df['Species'].value_counts()"
   ]
  },
  {
   "cell_type": "markdown",
   "id": "legal-place",
   "metadata": {},
   "source": [
    "### 2.2. Separe aleatoriamente 80% dos dados para treino (conjunto de treino) e 20% dos dados para teste (conjunto de teste). Para esta separação, use somente recursos do Python, Numpy ou Pandas. Não use o Scikit Learn para isso."
   ]
  },
  {
   "cell_type": "code",
   "execution_count": 5,
   "id": "concrete-canyon",
   "metadata": {},
   "outputs": [],
   "source": [
    "X = df.drop(columns='Species', axis=1)\n",
    "y = df['Species']"
   ]
  },
  {
   "cell_type": "code",
   "execution_count": 6,
   "id": "round-african",
   "metadata": {},
   "outputs": [],
   "source": [
    "X_train, X_test, y_train, y_test = train_test_split(X, y, train_size=0.8)"
   ]
  },
  {
   "cell_type": "markdown",
   "id": "blocked-argument",
   "metadata": {},
   "source": [
    "### 2.3. Usando somente o conjunto de treino, mostre as médias dos valores de cada feature para cada classe."
   ]
  },
  {
   "cell_type": "code",
   "execution_count": 23,
   "id": "balanced-roller",
   "metadata": {},
   "outputs": [],
   "source": [
    "class_info = pd.concat([X_train, y_train], axis=1).groupby('Species').agg({\n",
    "    'PetalLengthCm': ['mean', 'std',sum, max, min], \n",
    "    'PetalWidthCm': ['mean', 'std',sum, max, min],\n",
    "    'SepalLengthCm': ['mean', 'std',sum, max, min],\n",
    "    'SepalWidthCm': ['mean', 'std',sum, max, min],\n",
    "})"
   ]
  },
  {
   "cell_type": "code",
   "execution_count": 24,
   "id": "constant-hotel",
   "metadata": {},
   "outputs": [
    {
     "data": {
      "text/html": [
       "<div>\n",
       "<style scoped>\n",
       "    .dataframe tbody tr th:only-of-type {\n",
       "        vertical-align: middle;\n",
       "    }\n",
       "\n",
       "    .dataframe tbody tr th {\n",
       "        vertical-align: top;\n",
       "    }\n",
       "\n",
       "    .dataframe thead tr th {\n",
       "        text-align: left;\n",
       "    }\n",
       "\n",
       "    .dataframe thead tr:last-of-type th {\n",
       "        text-align: right;\n",
       "    }\n",
       "</style>\n",
       "<table border=\"1\" class=\"dataframe\">\n",
       "  <thead>\n",
       "    <tr>\n",
       "      <th></th>\n",
       "      <th colspan=\"5\" halign=\"left\">PetalLengthCm</th>\n",
       "      <th colspan=\"5\" halign=\"left\">PetalWidthCm</th>\n",
       "      <th colspan=\"5\" halign=\"left\">SepalLengthCm</th>\n",
       "      <th colspan=\"5\" halign=\"left\">SepalWidthCm</th>\n",
       "    </tr>\n",
       "    <tr>\n",
       "      <th></th>\n",
       "      <th>mean</th>\n",
       "      <th>std</th>\n",
       "      <th>sum</th>\n",
       "      <th>max</th>\n",
       "      <th>min</th>\n",
       "      <th>mean</th>\n",
       "      <th>std</th>\n",
       "      <th>sum</th>\n",
       "      <th>max</th>\n",
       "      <th>min</th>\n",
       "      <th>mean</th>\n",
       "      <th>std</th>\n",
       "      <th>sum</th>\n",
       "      <th>max</th>\n",
       "      <th>min</th>\n",
       "      <th>mean</th>\n",
       "      <th>std</th>\n",
       "      <th>sum</th>\n",
       "      <th>max</th>\n",
       "      <th>min</th>\n",
       "    </tr>\n",
       "    <tr>\n",
       "      <th>Species</th>\n",
       "      <th></th>\n",
       "      <th></th>\n",
       "      <th></th>\n",
       "      <th></th>\n",
       "      <th></th>\n",
       "      <th></th>\n",
       "      <th></th>\n",
       "      <th></th>\n",
       "      <th></th>\n",
       "      <th></th>\n",
       "      <th></th>\n",
       "      <th></th>\n",
       "      <th></th>\n",
       "      <th></th>\n",
       "      <th></th>\n",
       "      <th></th>\n",
       "      <th></th>\n",
       "      <th></th>\n",
       "      <th></th>\n",
       "      <th></th>\n",
       "    </tr>\n",
       "  </thead>\n",
       "  <tbody>\n",
       "    <tr>\n",
       "      <th>Iris-setosa</th>\n",
       "      <td>1.453659</td>\n",
       "      <td>0.165978</td>\n",
       "      <td>59.6</td>\n",
       "      <td>1.9</td>\n",
       "      <td>1.0</td>\n",
       "      <td>0.24878</td>\n",
       "      <td>0.109822</td>\n",
       "      <td>10.2</td>\n",
       "      <td>0.6</td>\n",
       "      <td>0.1</td>\n",
       "      <td>5.014634</td>\n",
       "      <td>0.360944</td>\n",
       "      <td>205.6</td>\n",
       "      <td>5.8</td>\n",
       "      <td>4.4</td>\n",
       "      <td>3.402439</td>\n",
       "      <td>0.381109</td>\n",
       "      <td>139.5</td>\n",
       "      <td>4.4</td>\n",
       "      <td>2.3</td>\n",
       "    </tr>\n",
       "    <tr>\n",
       "      <th>Iris-versicolor</th>\n",
       "      <td>4.233333</td>\n",
       "      <td>0.443364</td>\n",
       "      <td>152.4</td>\n",
       "      <td>5.1</td>\n",
       "      <td>3.3</td>\n",
       "      <td>1.30000</td>\n",
       "      <td>0.197122</td>\n",
       "      <td>46.8</td>\n",
       "      <td>1.8</td>\n",
       "      <td>1.0</td>\n",
       "      <td>5.919444</td>\n",
       "      <td>0.533891</td>\n",
       "      <td>213.1</td>\n",
       "      <td>7.0</td>\n",
       "      <td>4.9</td>\n",
       "      <td>2.783333</td>\n",
       "      <td>0.303786</td>\n",
       "      <td>100.2</td>\n",
       "      <td>3.4</td>\n",
       "      <td>2.0</td>\n",
       "    </tr>\n",
       "    <tr>\n",
       "      <th>Iris-virginica</th>\n",
       "      <td>5.548837</td>\n",
       "      <td>0.528868</td>\n",
       "      <td>238.6</td>\n",
       "      <td>6.9</td>\n",
       "      <td>4.5</td>\n",
       "      <td>2.02093</td>\n",
       "      <td>0.285822</td>\n",
       "      <td>86.9</td>\n",
       "      <td>2.5</td>\n",
       "      <td>1.4</td>\n",
       "      <td>6.546512</td>\n",
       "      <td>0.604487</td>\n",
       "      <td>281.5</td>\n",
       "      <td>7.9</td>\n",
       "      <td>4.9</td>\n",
       "      <td>2.969767</td>\n",
       "      <td>0.317381</td>\n",
       "      <td>127.7</td>\n",
       "      <td>3.8</td>\n",
       "      <td>2.2</td>\n",
       "    </tr>\n",
       "  </tbody>\n",
       "</table>\n",
       "</div>"
      ],
      "text/plain": [
       "                PetalLengthCm                            PetalWidthCm  \\\n",
       "                         mean       std    sum  max  min         mean   \n",
       "Species                                                                 \n",
       "Iris-setosa          1.453659  0.165978   59.6  1.9  1.0      0.24878   \n",
       "Iris-versicolor      4.233333  0.443364  152.4  5.1  3.3      1.30000   \n",
       "Iris-virginica       5.548837  0.528868  238.6  6.9  4.5      2.02093   \n",
       "\n",
       "                                          SepalLengthCm                        \\\n",
       "                      std   sum  max  min          mean       std    sum  max   \n",
       "Species                                                                         \n",
       "Iris-setosa      0.109822  10.2  0.6  0.1      5.014634  0.360944  205.6  5.8   \n",
       "Iris-versicolor  0.197122  46.8  1.8  1.0      5.919444  0.533891  213.1  7.0   \n",
       "Iris-virginica   0.285822  86.9  2.5  1.4      6.546512  0.604487  281.5  7.9   \n",
       "\n",
       "                     SepalWidthCm                             \n",
       "                 min         mean       std    sum  max  min  \n",
       "Species                                                       \n",
       "Iris-setosa      4.4     3.402439  0.381109  139.5  4.4  2.3  \n",
       "Iris-versicolor  4.9     2.783333  0.303786  100.2  3.4  2.0  \n",
       "Iris-virginica   4.9     2.969767  0.317381  127.7  3.8  2.2  "
      ]
     },
     "execution_count": 24,
     "metadata": {},
     "output_type": "execute_result"
    }
   ],
   "source": [
    "class_info"
   ]
  },
  {
   "cell_type": "markdown",
   "id": "extra-collect",
   "metadata": {},
   "source": [
    "### 2.4. Crie um algoritmo seu (sem usar aprendizado de máquina) para baseado nas médias das features calculadas no item 2.3. ou mesmo usando outras ideias suas, classificar corretamente as amostras do conjunto de teste. Aperfeçoe o seu algoritmo de forma a obter melhores resultados. Quanto por cento no conjunto de teste você conseguiu acertar corretamente o rótulo (classe) no seu melhor algoritmo, ou seja, qual a acurácia?"
   ]
  },
  {
   "cell_type": "code",
   "execution_count": 140,
   "id": "neutral-details",
   "metadata": {},
   "outputs": [],
   "source": [
    "def classificationAlgorithm(X_predict):\n",
    "    result = {}\n",
    "    for index, predict in X_predict.iterrows():\n",
    "        PetalLengthCm, PetalWidthCm, SepalLengthCm, SepalWidthCm = predict\n",
    "        pesos = {'Iris-setosa': 0,'Iris-versicolor': 0, 'Iris-virginica': 0}\n",
    "        try: \n",
    "            pesos[class_info['PetalLengthCm'].query('not(min >= @PetalLengthCm)').index[-1]] += 1\n",
    "            pesos[class_info['PetalLengthCm'].query('not(max < @PetalLengthCm)').index[-1]] += 1\n",
    "        except:\n",
    "            pesos['Iris-setosa'] += 1\n",
    "\n",
    "        try: \n",
    "            pesos[class_info['PetalWidthCm'].query('not(min >= @PetalWidthCm)').index[-1]] += 1\n",
    "            pesos[class_info['PetalWidthCm'].query('not(max < @PetalWidthCm)').index[-1]] += 1\n",
    "        except:\n",
    "            pesos['Iris-setosa'] += 1\n",
    "\n",
    "        try: \n",
    "            pesos[class_info['SepalLengthCm'].query('not(min >= @SepalLengthCm)').index[-1]] += 1\n",
    "            pesos[class_info['SepalLengthCm'].query('not(max < @SepalLengthCm)').index[-1]] += 1\n",
    "        except:\n",
    "            pesos['Iris-setosa'] += 1\n",
    "\n",
    "        try: \n",
    "            pesos[class_info['SepalWidthCm'].query('not(min >= @SepalWidthCm)').index[-1]] += 1\n",
    "            pesos[class_info['SepalWidthCm'].query('not(max < @SepalWidthCm)').index[-1]] += 1\n",
    "        except:\n",
    "            pesos['Iris-setosa'] += 1\n",
    "        \n",
    "        result[index] = max(pesos.items(), key=operator.itemgetter(1))[0]\n",
    "        \n",
    "    return pd.DataFrame(result.values(), index = list(result.keys()), columns=['predict'])"
   ]
  },
  {
   "cell_type": "code",
   "execution_count": 141,
   "id": "secondary-taste",
   "metadata": {},
   "outputs": [],
   "source": [
    "y_predict = classificationAlgorithm(X_test)"
   ]
  },
  {
   "cell_type": "code",
   "execution_count": 142,
   "id": "numerous-automation",
   "metadata": {},
   "outputs": [
    {
     "data": {
      "text/plain": [
       "0.5333333333333333"
      ]
     },
     "execution_count": 142,
     "metadata": {},
     "output_type": "execute_result"
    }
   ],
   "source": [
    "metrics.accuracy_score(y_predict, y_test)"
   ]
  }
 ],
 "metadata": {
  "kernelspec": {
   "display_name": "Python 3",
   "language": "python",
   "name": "python3"
  },
  "language_info": {
   "codemirror_mode": {
    "name": "ipython",
    "version": 3
   },
   "file_extension": ".py",
   "mimetype": "text/x-python",
   "name": "python",
   "nbconvert_exporter": "python",
   "pygments_lexer": "ipython3",
   "version": "3.8.5"
  }
 },
 "nbformat": 4,
 "nbformat_minor": 5
}
