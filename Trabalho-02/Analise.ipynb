{
 "cells": [
  {
   "cell_type": "markdown",
   "id": "stainless-prophet",
   "metadata": {},
   "source": [
    "# Trabalho 02"
   ]
  },
  {
   "cell_type": "markdown",
   "id": "independent-reliance",
   "metadata": {},
   "source": [
    "Link dataset: https://www.kaggle.com/jp797498e/twitter-entity-sentiment-analysis?select=twitter_training.csv"
   ]
  },
  {
   "cell_type": "code",
   "execution_count": 1,
   "id": "familiar-retro",
   "metadata": {},
   "outputs": [],
   "source": [
    "import pandas as pd\n",
    "import numpy as np\n",
    "\n",
    "import matplotlib.pyplot as plt\n",
    "import seaborn as sns\n",
    "\n",
    "import warnings\n",
    "warnings.filterwarnings('ignore')"
   ]
  },
  {
   "cell_type": "markdown",
   "id": "executed-parent",
   "metadata": {},
   "source": [
    "## Monitoramento de recursos"
   ]
  },
  {
   "cell_type": "code",
   "execution_count": 2,
   "id": "continent-trunk",
   "metadata": {},
   "outputs": [],
   "source": [
    "import sys\n",
    "\n",
    "def sizeof_fmt(num, suffix='B'):\n",
    "    for unit in ['','Ki','Mi','Gi','Ti','Pi','Ei','Zi']:\n",
    "        if abs(num) < 1024.0:\n",
    "            return \"%3.1f %s%s\" % (num, unit, suffix)\n",
    "        num /= 1024.0\n",
    "    return \"%.1f %s%s\" % (num, 'Yi', suffix)\n",
    "\n",
    "def print_top_mem_vars(variables):\n",
    "    \"\"\"Usage:\n",
    "    mem.print_top_mem_vars(locals())\n",
    "    mem.print_top_mem_vars(globals())\n",
    "    \"\"\"\n",
    "    for name, size in sorted(((name, sys.getsizeof(value)) for name, value in variables.items()), key= lambda x: -x[1])[:10]:\n",
    "        print(\"{:>30}: {:>8}\".format(name, sizeof_fmt(size)))"
   ]
  },
  {
   "cell_type": "code",
   "execution_count": null,
   "id": "nutritional-registration",
   "metadata": {},
   "outputs": [],
   "source": []
  },
  {
   "cell_type": "markdown",
   "id": "exceptional-snake",
   "metadata": {},
   "source": [
    "## Importação dos dados"
   ]
  },
  {
   "cell_type": "code",
   "execution_count": 3,
   "id": "induced-performer",
   "metadata": {},
   "outputs": [],
   "source": [
    "df = pd.read_csv('sentiment_menssage.csv')"
   ]
  },
  {
   "cell_type": "markdown",
   "id": "strategic-projection",
   "metadata": {},
   "source": [
    "## Análise dos dados"
   ]
  },
  {
   "cell_type": "code",
   "execution_count": 4,
   "id": "operating-recycling",
   "metadata": {},
   "outputs": [
    {
     "data": {
      "text/html": [
       "<div>\n",
       "<style scoped>\n",
       "    .dataframe tbody tr th:only-of-type {\n",
       "        vertical-align: middle;\n",
       "    }\n",
       "\n",
       "    .dataframe tbody tr th {\n",
       "        vertical-align: top;\n",
       "    }\n",
       "\n",
       "    .dataframe thead th {\n",
       "        text-align: right;\n",
       "    }\n",
       "</style>\n",
       "<table border=\"1\" class=\"dataframe\">\n",
       "  <thead>\n",
       "    <tr style=\"text-align: right;\">\n",
       "      <th></th>\n",
       "      <th>sentiment</th>\n",
       "      <th>message</th>\n",
       "    </tr>\n",
       "  </thead>\n",
       "  <tbody>\n",
       "    <tr>\n",
       "      <th>0</th>\n",
       "      <td>Positive</td>\n",
       "      <td>im getting on borderlands and i will murder yo...</td>\n",
       "    </tr>\n",
       "    <tr>\n",
       "      <th>1</th>\n",
       "      <td>Positive</td>\n",
       "      <td>I am coming to the borders and I will kill you...</td>\n",
       "    </tr>\n",
       "    <tr>\n",
       "      <th>2</th>\n",
       "      <td>Positive</td>\n",
       "      <td>im getting on borderlands and i will kill you ...</td>\n",
       "    </tr>\n",
       "    <tr>\n",
       "      <th>3</th>\n",
       "      <td>Positive</td>\n",
       "      <td>im coming on borderlands and i will murder you...</td>\n",
       "    </tr>\n",
       "    <tr>\n",
       "      <th>4</th>\n",
       "      <td>Positive</td>\n",
       "      <td>im getting on borderlands 2 and i will murder ...</td>\n",
       "    </tr>\n",
       "  </tbody>\n",
       "</table>\n",
       "</div>"
      ],
      "text/plain": [
       "  sentiment                                            message\n",
       "0  Positive  im getting on borderlands and i will murder yo...\n",
       "1  Positive  I am coming to the borders and I will kill you...\n",
       "2  Positive  im getting on borderlands and i will kill you ...\n",
       "3  Positive  im coming on borderlands and i will murder you...\n",
       "4  Positive  im getting on borderlands 2 and i will murder ..."
      ]
     },
     "execution_count": 4,
     "metadata": {},
     "output_type": "execute_result"
    }
   ],
   "source": [
    "df.head()"
   ]
  },
  {
   "cell_type": "code",
   "execution_count": 5,
   "id": "armed-mandate",
   "metadata": {},
   "outputs": [
    {
     "data": {
      "text/plain": [
       "(75682, 2)"
      ]
     },
     "execution_count": 5,
     "metadata": {},
     "output_type": "execute_result"
    }
   ],
   "source": [
    "df.shape"
   ]
  },
  {
   "cell_type": "code",
   "execution_count": 6,
   "id": "quality-border",
   "metadata": {},
   "outputs": [
    {
     "data": {
      "text/html": [
       "<div>\n",
       "<style scoped>\n",
       "    .dataframe tbody tr th:only-of-type {\n",
       "        vertical-align: middle;\n",
       "    }\n",
       "\n",
       "    .dataframe tbody tr th {\n",
       "        vertical-align: top;\n",
       "    }\n",
       "\n",
       "    .dataframe thead th {\n",
       "        text-align: right;\n",
       "    }\n",
       "</style>\n",
       "<table border=\"1\" class=\"dataframe\">\n",
       "  <thead>\n",
       "    <tr style=\"text-align: right;\">\n",
       "      <th></th>\n",
       "      <th>sentiment</th>\n",
       "      <th>message</th>\n",
       "    </tr>\n",
       "  </thead>\n",
       "  <tbody>\n",
       "    <tr>\n",
       "      <th>count</th>\n",
       "      <td>75682</td>\n",
       "      <td>74996</td>\n",
       "    </tr>\n",
       "    <tr>\n",
       "      <th>unique</th>\n",
       "      <td>4</td>\n",
       "      <td>69974</td>\n",
       "    </tr>\n",
       "    <tr>\n",
       "      <th>top</th>\n",
       "      <td>Negative</td>\n",
       "      <td>At the same time, despite the fact that there ...</td>\n",
       "    </tr>\n",
       "    <tr>\n",
       "      <th>freq</th>\n",
       "      <td>22808</td>\n",
       "      <td>172</td>\n",
       "    </tr>\n",
       "  </tbody>\n",
       "</table>\n",
       "</div>"
      ],
      "text/plain": [
       "       sentiment                                            message\n",
       "count      75682                                              74996\n",
       "unique         4                                              69974\n",
       "top     Negative  At the same time, despite the fact that there ...\n",
       "freq       22808                                                172"
      ]
     },
     "execution_count": 6,
     "metadata": {},
     "output_type": "execute_result"
    }
   ],
   "source": [
    "df.describe()"
   ]
  },
  {
   "cell_type": "code",
   "execution_count": 7,
   "id": "structural-enterprise",
   "metadata": {},
   "outputs": [
    {
     "name": "stdout",
     "output_type": "stream",
     "text": [
      "<class 'pandas.core.frame.DataFrame'>\n",
      "RangeIndex: 75682 entries, 0 to 75681\n",
      "Data columns (total 2 columns):\n",
      " #   Column     Non-Null Count  Dtype \n",
      "---  ------     --------------  ----- \n",
      " 0   sentiment  75682 non-null  object\n",
      " 1   message    74996 non-null  object\n",
      "dtypes: object(2)\n",
      "memory usage: 1.2+ MB\n"
     ]
    }
   ],
   "source": [
    "df.info()"
   ]
  },
  {
   "cell_type": "code",
   "execution_count": 8,
   "id": "miniature-pickup",
   "metadata": {},
   "outputs": [
    {
     "data": {
      "image/png": "[encoded data removed]",
      "text/plain": [
       "<Figure size 576x288 with 1 Axes>"
      ]
     },
     "metadata": {
      "needs_background": "light"
     },
     "output_type": "display_data"
    }
   ],
   "source": [
    "df[df['message'].isnull()]['sentiment'].value_counts()\\\n",
    "    .plot.bar(rot=0, \n",
    "              grid=True,\n",
    "              title='Distribuição de valores nulos por sentimento',\n",
    "              figsize=(8,4));"
   ]
  },
  {
   "cell_type": "code",
   "execution_count": 9,
   "id": "falling-youth",
   "metadata": {},
   "outputs": [
    {
     "name": "stdout",
     "output_type": "stream",
     "text": [
      "Total de descrições nulas: 75682\n"
     ]
    }
   ],
   "source": [
    "print('Total de descrições nulas:', len(df['message'].isnull()))"
   ]
  },
  {
   "cell_type": "code",
   "execution_count": 10,
   "id": "elder-haiti",
   "metadata": {},
   "outputs": [
    {
     "data": {
      "image/png": "[encoded data removed]",
      "text/plain": [
       "<Figure size 576x288 with 1 Axes>"
      ]
     },
     "metadata": {
      "needs_background": "light"
     },
     "output_type": "display_data"
    }
   ],
   "source": [
    "df['sentiment'].value_counts()\\\n",
    "    .plot.bar(rot=0, \n",
    "              grid=True, \n",
    "              title='Distribuição de sentimentos', \n",
    "              xlabel='sentimento', \n",
    "              ylabel='frequência',\n",
    "              figsize=(8,4));"
   ]
  },
  {
   "cell_type": "markdown",
   "id": "yellow-cement",
   "metadata": {},
   "source": [
    "## Pré-processamento"
   ]
  },
  {
   "cell_type": "code",
   "execution_count": 11,
   "id": "central-sierra",
   "metadata": {},
   "outputs": [],
   "source": [
    "# !pip install gensim"
   ]
  },
  {
   "cell_type": "code",
   "execution_count": 12,
   "id": "bound-electron",
   "metadata": {},
   "outputs": [],
   "source": [
    "import re\n",
    "\n",
    "import nltk\n",
    "#nltk.download('stopwords')\n",
    "\n",
    "from nltk.corpus import stopwords\n",
    "\n",
    "from sklearn.feature_extraction.text import CountVectorizer\n",
    "from sklearn.feature_extraction.text import TfidfVectorizer"
   ]
  },
  {
   "cell_type": "code",
   "execution_count": 13,
   "id": "powered-decision",
   "metadata": {},
   "outputs": [],
   "source": [
    "# Remoção de emojis\n",
    "emoji_pattern = re.compile(\"[\"\n",
    "                           u\"\\U0001F600-\\U0001F64F\"  # emoticons\n",
    "                           u\"\\U0001F300-\\U0001F5FF\"  # symbols & pictographs\n",
    "                           u\"\\U0001F680-\\U0001F6FF\"  # transport & map symbols\n",
    "                           u\"\\U0001F1E0-\\U0001F1FF\"  # flags (iOS)\n",
    "                           u\"\\U00002500-\\U00002BEF\"  # chinese char\n",
    "                           u\"\\U00002702-\\U000027B0\"\n",
    "                           u\"\\U00002702-\\U000027B0\"\n",
    "                           u\"\\U000024C2-\\U0001F251\"\n",
    "                           u\"\\U0001f926-\\U0001f937\"\n",
    "                           u\"\\U00010000-\\U0010ffff\"\n",
    "                           u\"\\u2640-\\u2642\"\n",
    "                           u\"\\u2600-\\u2B55\"\n",
    "                           u\"\\u200d\"\n",
    "                           u\"\\u23cf\"\n",
    "                           u\"\\u23e9\"\n",
    "                           u\"\\u231a\"\n",
    "                           u\"\\ufe0f\"  # dingbats\n",
    "                           u\"\\u3030\"\n",
    "                           \"]+\", flags=re.UNICODE)"
   ]
  },
  {
   "cell_type": "code",
   "execution_count": null,
   "id": "closing-confidence",
   "metadata": {},
   "outputs": [],
   "source": []
  },
  {
   "cell_type": "code",
   "execution_count": 14,
   "id": "urban-complexity",
   "metadata": {},
   "outputs": [],
   "source": [
    "df.dropna(subset=['message'], inplace=True)"
   ]
  },
  {
   "cell_type": "code",
   "execution_count": 15,
   "id": "numeric-patrick",
   "metadata": {},
   "outputs": [],
   "source": [
    "stop_words = stopwords.words('english')\n",
    "\n",
    "def removing_unwanted_characters(text: str):\n",
    "    text = emoji_pattern.sub(r'', text) # Remoção de emoji\n",
    "    text = re.sub(r'[0-9]+', ' ', text) # Remoção de numeros\n",
    "    text = text.lower().replace('’', '')\n",
    "    text = re.sub(r'[\"-,.:@#?!&$]',' ', text)\n",
    "    text = re.sub(r\"^\\s+|\\s+$\", \"\", text)\n",
    "    return ' '.join([word for word in text.split() if word not in stop_words])"
   ]
  },
  {
   "cell_type": "code",
   "execution_count": 16,
   "id": "secondary-polish",
   "metadata": {},
   "outputs": [],
   "source": [
    "df['message'] = df.message.map(removing_unwanted_characters)"
   ]
  },
  {
   "cell_type": "code",
   "execution_count": 17,
   "id": "funny-divorce",
   "metadata": {},
   "outputs": [],
   "source": [
    "map_replace = {'sentiment': {'Irrelevant': 0, 'Negative': 1, 'Neutral': 2, 'Positive': 3}}\n",
    "df = df.replace(map_replace)"
   ]
  },
  {
   "cell_type": "code",
   "execution_count": 18,
   "id": "induced-billy",
   "metadata": {},
   "outputs": [
    {
     "name": "stdout",
     "output_type": "stream",
     "text": [
      "                            df: 11.2 MiB\n",
      "                          _i13:  2.1 KiB\n",
      "                    stop_words:  1.6 KiB\n",
      "                          _iii:  1.3 KiB\n",
      "                          _i15:  1.3 KiB\n",
      "               CountVectorizer:  1.0 KiB\n",
      "               TfidfVectorizer:  1.0 KiB\n",
      "                           ___: 1016.0 B\n",
      "                            _4: 1016.0 B\n",
      "                             _:  874.0 B\n",
      "\n",
      "\n",
      "                            df: 11.2 MiB\n",
      "                          _i13:  2.1 KiB\n",
      "                    stop_words:  1.6 KiB\n",
      "                          _iii:  1.3 KiB\n",
      "                          _i15:  1.3 KiB\n",
      "               CountVectorizer:  1.0 KiB\n",
      "               TfidfVectorizer:  1.0 KiB\n",
      "                           ___: 1016.0 B\n",
      "                            _4: 1016.0 B\n",
      "                             _:  874.0 B\n"
     ]
    }
   ],
   "source": [
    "print_top_mem_vars(locals())\n",
    "print('\\n')\n",
    "print_top_mem_vars(globals())"
   ]
  },
  {
   "cell_type": "code",
   "execution_count": 19,
   "id": "cutting-insertion",
   "metadata": {},
   "outputs": [],
   "source": [
    "del stop_words, emoji_pattern"
   ]
  },
  {
   "cell_type": "code",
   "execution_count": 20,
   "id": "loose-shirt",
   "metadata": {},
   "outputs": [],
   "source": [
    "text_representation = {\n",
    "    'CountVectorizer': CountVectorizer(),\n",
    "    'TfidfVectorizer': TfidfVectorizer()\n",
    "}"
   ]
  },
  {
   "cell_type": "markdown",
   "id": "attached-dividend",
   "metadata": {},
   "source": [
    "## Uso de modelos preditivos para obtenção de predições (classificações / regressões)"
   ]
  },
  {
   "cell_type": "markdown",
   "id": "proper-burning",
   "metadata": {},
   "source": [
    "- Usar Grid Search e Validação Cruzada com k-Fold.\n",
    "- Usar os algoritmos aprendidos na disciplina, incluindo: kNN, SVM, Árvore de Decisão, Random Forest, Gradient Boosting e Redes Neurais.\n",
    "- Avaliação dos resultados através de métricas"
   ]
  },
  {
   "cell_type": "code",
   "execution_count": 97,
   "id": "apparent-invalid",
   "metadata": {},
   "outputs": [],
   "source": [
    "from statistics import mean\n",
    "import time\n",
    "\n",
    "# Separação treino e teste\n",
    "from sklearn.model_selection import train_test_split\n",
    "\n",
    "# Algoritmos de classificação\n",
    "from sklearn.neighbors import KNeighborsClassifier\n",
    "from sklearn.svm import LinearSVC, SVC\n",
    "from sklearn.tree import DecisionTreeClassifier\n",
    "from sklearn.ensemble import RandomForestClassifier\n",
    "from sklearn.ensemble import GradientBoostingClassifier\n",
    "\n",
    "# Redes neurais\n",
    "from sklearn.neural_network import MLPClassifier\n",
    "from sklearn.linear_model import Perceptron\n",
    "\n",
    "# Validação Cruzada com kFold\n",
    "from sklearn.model_selection import cross_val_score, KFold\n",
    "\n",
    "# Grid Search\n",
    "from sklearn.model_selection import GridSearchCV\n",
    "\n",
    "# Pipele models\n",
    "from sklearn.pipeline import Pipeline\n",
    "\n",
    "# Métricas de avaliação\n",
    "from sklearn.metrics import accuracy_score, f1_score"
   ]
  },
  {
   "cell_type": "markdown",
   "id": "aging-julian",
   "metadata": {},
   "source": [
    "### Separação de treino e teste"
   ]
  },
  {
   "cell_type": "code",
   "execution_count": 22,
   "id": "passing-token",
   "metadata": {},
   "outputs": [],
   "source": [
    "X_train, X_test, y_train, y_test = train_test_split(df['message'], df['sentiment'], test_size=.3, stratify=df['sentiment'], random_state=42)"
   ]
  },
  {
   "cell_type": "code",
   "execution_count": null,
   "id": "transsexual-orlando",
   "metadata": {},
   "outputs": [],
   "source": []
  },
  {
   "cell_type": "markdown",
   "id": "attended-friendly",
   "metadata": {},
   "source": [
    "### Busca do melhor algoritmo"
   ]
  },
  {
   "cell_type": "code",
   "execution_count": 23,
   "id": "willing-antibody",
   "metadata": {},
   "outputs": [],
   "source": [
    "kfold = KFold(n_splits=5, shuffle=True, random_state=42)"
   ]
  },
  {
   "cell_type": "code",
   "execution_count": 24,
   "id": "missing-belize",
   "metadata": {},
   "outputs": [],
   "source": [
    "models = {\n",
    "    'KNN': KNeighborsClassifier(),\n",
    "    'SVM': LinearSVC(random_state=42),\n",
    "    'DecisionTree': DecisionTreeClassifier(random_state=42),\n",
    "    'RandomForest': RandomForestClassifier(random_state=42),\n",
    "    'GradientBoosting': GradientBoostingClassifier(random_state=42),\n",
    "    'MLPClassifier': MLPClassifier(max_iter=300, random_state=42),\n",
    "    'Perceptron': Perceptron(tol=1e-3, random_state=42)\n",
    "}"
   ]
  },
  {
   "cell_type": "code",
   "execution_count": 25,
   "id": "surrounded-tracker",
   "metadata": {},
   "outputs": [],
   "source": [
    "result = {\n",
    "    'models': [],\n",
    "    'text_representation': [],\n",
    "    'f1_score': []\n",
    "}"
   ]
  },
  {
   "cell_type": "code",
   "execution_count": 26,
   "id": "musical-utilization",
   "metadata": {},
   "outputs": [
    {
     "name": "stdout",
     "output_type": "stream",
     "text": [
      "CountVectorizer KNN\n",
      "CountVectorizer SVM\n",
      "CountVectorizer DecisionTree\n",
      "CountVectorizer RandomForest\n",
      "CountVectorizer GradientBoosting\n",
      "CountVectorizer MLPClassifier\n",
      "CountVectorizer Perceptron\n",
      "TfidfVectorizer KNN\n",
      "TfidfVectorizer SVM\n",
      "TfidfVectorizer DecisionTree\n",
      "TfidfVectorizer RandomForest\n",
      "TfidfVectorizer GradientBoosting\n",
      "TfidfVectorizer MLPClassifier\n",
      "TfidfVectorizer Perceptron\n",
      "Tempo de execução: 27904.224339723587\n"
     ]
    }
   ],
   "source": [
    "start = time.time()\n",
    "for name_representation, representation in text_representation.items():\n",
    "    X_train_text = representation.fit_transform(X_train)\n",
    "    for name_model, model in models.items():\n",
    "        print(name_representation, name_model)\n",
    "        result['models'].append(name_model)\n",
    "        result['text_representation'].append(name_representation)\n",
    "        result['f1_score'].append(cross_val_score(model, X_train_text, y_train, cv=kfold, scoring='f1_weighted'))\n",
    "        del model\n",
    "    del X_train_text\n",
    "\n",
    "end = time.time()\n",
    "\n",
    "print('Tempo de execução:', end-start)"
   ]
  },
  {
   "cell_type": "code",
   "execution_count": 27,
   "id": "urban-fence",
   "metadata": {},
   "outputs": [
    {
     "data": {
      "text/html": [
       "<div>\n",
       "<style scoped>\n",
       "    .dataframe tbody tr th:only-of-type {\n",
       "        vertical-align: middle;\n",
       "    }\n",
       "\n",
       "    .dataframe tbody tr th {\n",
       "        vertical-align: top;\n",
       "    }\n",
       "\n",
       "    .dataframe thead th {\n",
       "        text-align: right;\n",
       "    }\n",
       "</style>\n",
       "<table border=\"1\" class=\"dataframe\">\n",
       "  <thead>\n",
       "    <tr style=\"text-align: right;\">\n",
       "      <th></th>\n",
       "      <th>models</th>\n",
       "      <th>text_representation</th>\n",
       "      <th>f1_score</th>\n",
       "    </tr>\n",
       "  </thead>\n",
       "  <tbody>\n",
       "    <tr>\n",
       "      <th>10</th>\n",
       "      <td>RandomForest</td>\n",
       "      <td>TfidfVectorizer</td>\n",
       "      <td>0.887354</td>\n",
       "    </tr>\n",
       "    <tr>\n",
       "      <th>3</th>\n",
       "      <td>RandomForest</td>\n",
       "      <td>CountVectorizer</td>\n",
       "      <td>0.882139</td>\n",
       "    </tr>\n",
       "    <tr>\n",
       "      <th>12</th>\n",
       "      <td>MLPClassifier</td>\n",
       "      <td>TfidfVectorizer</td>\n",
       "      <td>0.865385</td>\n",
       "    </tr>\n",
       "    <tr>\n",
       "      <th>5</th>\n",
       "      <td>MLPClassifier</td>\n",
       "      <td>CountVectorizer</td>\n",
       "      <td>0.848118</td>\n",
       "    </tr>\n",
       "    <tr>\n",
       "      <th>8</th>\n",
       "      <td>SVM</td>\n",
       "      <td>TfidfVectorizer</td>\n",
       "      <td>0.842742</td>\n",
       "    </tr>\n",
       "    <tr>\n",
       "      <th>1</th>\n",
       "      <td>SVM</td>\n",
       "      <td>CountVectorizer</td>\n",
       "      <td>0.836390</td>\n",
       "    </tr>\n",
       "    <tr>\n",
       "      <th>13</th>\n",
       "      <td>Perceptron</td>\n",
       "      <td>TfidfVectorizer</td>\n",
       "      <td>0.815622</td>\n",
       "    </tr>\n",
       "    <tr>\n",
       "      <th>6</th>\n",
       "      <td>Perceptron</td>\n",
       "      <td>CountVectorizer</td>\n",
       "      <td>0.814710</td>\n",
       "    </tr>\n",
       "    <tr>\n",
       "      <th>2</th>\n",
       "      <td>DecisionTree</td>\n",
       "      <td>CountVectorizer</td>\n",
       "      <td>0.794217</td>\n",
       "    </tr>\n",
       "    <tr>\n",
       "      <th>7</th>\n",
       "      <td>KNN</td>\n",
       "      <td>TfidfVectorizer</td>\n",
       "      <td>0.791543</td>\n",
       "    </tr>\n",
       "    <tr>\n",
       "      <th>9</th>\n",
       "      <td>DecisionTree</td>\n",
       "      <td>TfidfVectorizer</td>\n",
       "      <td>0.770678</td>\n",
       "    </tr>\n",
       "    <tr>\n",
       "      <th>0</th>\n",
       "      <td>KNN</td>\n",
       "      <td>CountVectorizer</td>\n",
       "      <td>0.759045</td>\n",
       "    </tr>\n",
       "    <tr>\n",
       "      <th>11</th>\n",
       "      <td>GradientBoosting</td>\n",
       "      <td>TfidfVectorizer</td>\n",
       "      <td>0.487492</td>\n",
       "    </tr>\n",
       "    <tr>\n",
       "      <th>4</th>\n",
       "      <td>GradientBoosting</td>\n",
       "      <td>CountVectorizer</td>\n",
       "      <td>0.479839</td>\n",
       "    </tr>\n",
       "  </tbody>\n",
       "</table>\n",
       "</div>"
      ],
      "text/plain": [
       "              models text_representation  f1_score\n",
       "10      RandomForest     TfidfVectorizer  0.887354\n",
       "3       RandomForest     CountVectorizer  0.882139\n",
       "12     MLPClassifier     TfidfVectorizer  0.865385\n",
       "5      MLPClassifier     CountVectorizer  0.848118\n",
       "8                SVM     TfidfVectorizer  0.842742\n",
       "1                SVM     CountVectorizer  0.836390\n",
       "13        Perceptron     TfidfVectorizer  0.815622\n",
       "6         Perceptron     CountVectorizer  0.814710\n",
       "2       DecisionTree     CountVectorizer  0.794217\n",
       "7                KNN     TfidfVectorizer  0.791543\n",
       "9       DecisionTree     TfidfVectorizer  0.770678\n",
       "0                KNN     CountVectorizer  0.759045\n",
       "11  GradientBoosting     TfidfVectorizer  0.487492\n",
       "4   GradientBoosting     CountVectorizer  0.479839"
      ]
     },
     "execution_count": 27,
     "metadata": {},
     "output_type": "execute_result"
    }
   ],
   "source": [
    "pd.DataFrame(result).sort_values('f1_score', ascending=False)"
   ]
  },
  {
   "cell_type": "code",
   "execution_count": 28,
   "id": "violent-consultation",
   "metadata": {},
   "outputs": [],
   "source": [
    "pd.DataFrame(result).sort_values('f1_score').to_csv('result.csv', index=False)"
   ]
  },
  {
   "cell_type": "markdown",
   "id": "respiratory-excuse",
   "metadata": {},
   "source": [
    "### Busca dos melhores hiper-paramentros"
   ]
  },
  {
   "cell_type": "code",
   "execution_count": 143,
   "id": "adult-garbage",
   "metadata": {},
   "outputs": [
    {
     "name": "stdout",
     "output_type": "stream",
     "text": [
      "Melhor f1: 0.3847740812554605\n",
      "Melhor modelo: Pipeline(steps=[('TfidfVectorizer', TfidfVectorizer()),\n",
      "                ('RandomForest',\n",
      "                 RandomForestClassifier(max_depth=10, n_estimators=500,\n",
      "                                        random_state=42))])\n",
      "CPU times: user 21.7 s, sys: 937 ms, total: 22.7 s\n",
      "Wall time: 9min 28s\n"
     ]
    }
   ],
   "source": [
    "%%time\n",
    "parameters = { \n",
    "    'RandomForest__n_estimators': [100, 200, 500, 700, 1000],\n",
    "    'RandomForest__max_features': ['auto', 'sqrt', 'log2'],\n",
    "    'RandomForest__max_depth': [4, 6, 8, 10]\n",
    "}\n",
    "\n",
    "rf = GridSearchCV(\n",
    "    Pipeline([\n",
    "        ('TfidfVectorizer', TfidfVectorizer()),\n",
    "        ('RandomForest', RandomForestClassifier(random_state=42))\n",
    "    ]), \n",
    "    parameters,\n",
    "    n_jobs=-1,\n",
    "    cv=kfold,\n",
    "    scoring='f1_weighted',\n",
    ")\n",
    "\n",
    "rf.fit(X_train, y_train)\n",
    "\n",
    "print('Melhor f1:', rf.best_score_)\n",
    "print('Melhor modelo:', rf.best_estimator_)"
   ]
  },
  {
   "cell_type": "markdown",
   "id": "packed-violation",
   "metadata": {},
   "source": [
    "### Algoritmos proposto"
   ]
  },
  {
   "cell_type": "code",
   "execution_count": 144,
   "id": "exterior-tradition",
   "metadata": {},
   "outputs": [
    {
     "name": "stdout",
     "output_type": "stream",
     "text": [
      "Treino - Accuracy: 0.46581709431015106, F1: 0.39692157534062444\n",
      "Teste - Accuracy: 0.45130894706431396, F1: 0.38093635288429645\n"
     ]
    }
   ],
   "source": [
    "model = rf.best_estimator_\n",
    "\n",
    "model.fit(X_train, y_train)\n",
    "\n",
    "y_pred = model.predict(X_train)\n",
    "acc = accuracy_score(y_train, y_pred)\n",
    "f1 = f1_score(y_train, y_pred, average='weighted')\n",
    "print(f\"Treino - Accuracy: {acc}, F1: {f1}\")\n",
    "\n",
    "y_pred = model.predict(X_test)\n",
    "acc = accuracy_score(y_test, y_pred)\n",
    "f1 = f1_score(y_test, y_pred, average='weighted')\n",
    "print(f\"Teste - Accuracy: {acc}, F1: {f1}\")"
   ]
  },
  {
   "cell_type": "code",
   "execution_count": null,
   "id": "stunning-winner",
   "metadata": {},
   "outputs": [],
   "source": []
  },
  {
   "cell_type": "code",
   "execution_count": null,
   "id": "attached-finland",
   "metadata": {},
   "outputs": [],
   "source": []
  },
  {
   "cell_type": "code",
   "execution_count": null,
   "id": "beneficial-discrimination",
   "metadata": {},
   "outputs": [],
   "source": []
  },
  {
   "cell_type": "markdown",
   "id": "chinese-bulletin",
   "metadata": {},
   "source": [
    "# Experimento 02 - Amostragem"
   ]
  },
  {
   "cell_type": "markdown",
   "id": "working-amateur",
   "metadata": {},
   "source": [
    "<div style=\"background:#f3f3f3; \">\n",
    "    <br>\n",
    "    <center>\n",
    "        <img  src=\"https://latex.codecogs.com/png.image?\\Large&space;n \\approx \\frac{p}{\\frac{4\\cdot(p - 1)\\cdot err^2}{Z^2} + 1}\" title=\"\\Large n \\approx \\frac{pop}{\\frac{4\\cdot(pop - 1)\\cdot err^2}{Z^2} + 1}\" />\n",
    "    <\\center>\n",
    "    <br>\n",
    "<\\div>"
   ]
  },
  {
   "cell_type": "markdown",
   "id": "special-chick",
   "metadata": {},
   "source": [
    "n = Tamanho da amostra <br>\n",
    "p = População <br>\n",
    "err = Margem de erro (%) <br>\n",
    "Z = z_score"
   ]
  },
  {
   "cell_type": "code",
   "execution_count": 50,
   "id": "restricted-bridal",
   "metadata": {},
   "outputs": [],
   "source": [
    "import math\n",
    "def amostragem(p, err, c):\n",
    "    Z = {0.90: 1.65, 0.95: 1.96, 0.99: 2.58}\n",
    "    n = math.ceil( p / ( ( 4*(p - 1)*math.pow(err,2)/math.pow(Z[c],2) ) + 1 ) )\n",
    "    return n"
   ]
  },
  {
   "cell_type": "code",
   "execution_count": 77,
   "id": "younger-foster",
   "metadata": {},
   "outputs": [
    {
     "name": "stdout",
     "output_type": "stream",
     "text": [
      "\n",
      "População: 74996\n",
      "Margem de erro: 2.0%\n",
      "Confiabilidade: 99.0%\n",
      "Tamanho da amostra: 3942\n",
      "\n"
     ]
    }
   ],
   "source": [
    "p = df.shape[0]\n",
    "err = .02\n",
    "c = 0.99\n",
    "n = amostragem(p, err, c)\n",
    "print(\n",
    "f'''\n",
    "População: {p}\n",
    "Margem de erro: {err*100}%\n",
    "Confiabilidade: {c*100}%\n",
    "Tamanho da amostra: {n}\n",
    "'''\n",
    ")"
   ]
  },
  {
   "cell_type": "code",
   "execution_count": 78,
   "id": "terminal-timing",
   "metadata": {},
   "outputs": [],
   "source": [
    "sample = df.sample(n, weights='sentiment', random_state=42)"
   ]
  },
  {
   "cell_type": "code",
   "execution_count": 79,
   "id": "adapted-communication",
   "metadata": {},
   "outputs": [],
   "source": [
    "X_sample, y_sample = sample['message'], sample['sentiment']"
   ]
  },
  {
   "cell_type": "code",
   "execution_count": 80,
   "id": "infinite-dallas",
   "metadata": {},
   "outputs": [],
   "source": [
    "kfold = KFold(n_splits=5, shuffle=True, random_state=42)"
   ]
  },
  {
   "cell_type": "code",
   "execution_count": 101,
   "id": "disabled-cemetery",
   "metadata": {},
   "outputs": [],
   "source": [
    "result_gridSearch = {\n",
    "    'best_pipeline_model': [],\n",
    "    'f1_score': []\n",
    "}\n",
    "\n",
    "text_representation = ['CountVectorizer', 'TfidfVectorizer']"
   ]
  },
  {
   "cell_type": "markdown",
   "id": "abstract-italy",
   "metadata": {},
   "source": [
    "### KNeighborsClassifier"
   ]
  },
  {
   "cell_type": "code",
   "execution_count": 134,
   "id": "chief-herald",
   "metadata": {},
   "outputs": [
    {
     "name": "stdout",
     "output_type": "stream",
     "text": [
      "Melhor f1: 0.521416111312776\n",
      "Melhor modelo: Pipeline(steps=[('CountVectorizer', CountVectorizer()),\n",
      "                ('knn',\n",
      "                 KNeighborsClassifier(n_neighbors=3, weights='distance'))])\n",
      "Melhor f1: 0.4895483444963915\n",
      "Melhor modelo: Pipeline(steps=[('TfidfVectorizer', TfidfVectorizer()),\n",
      "                ('knn', KNeighborsClassifier(weights='distance'))])\n",
      "CPU times: user 221 ms, sys: 675 ms, total: 896 ms\n",
      "Wall time: 4.95 s\n"
     ]
    }
   ],
   "source": [
    "%%time\n",
    "parameters = {\n",
    "    \"knn__weights\": [\"uniform\", \"distance\"],\n",
    "    \"knn__n_neighbors\": [3, 5, 7, 9, 11]\n",
    "}\n",
    "\n",
    "for text_r in text_representation:\n",
    "    knn = GridSearchCV(\n",
    "        Pipeline([\n",
    "            (text_r, eval(text_r)()),\n",
    "            ('knn', KNeighborsClassifier())\n",
    "        ]), \n",
    "        parameters,\n",
    "        n_jobs=-1,\n",
    "        cv=kfold,\n",
    "        scoring='f1_weighted',\n",
    "    )\n",
    "\n",
    "    knn.fit(X_sample, y_sample)\n",
    "    \n",
    "    result_gridSearch['best_pipeline_model'].append(knn.best_estimator_)\n",
    "    result_gridSearch['f1_score'].append(knn.best_score_)\n",
    "\n",
    "    print('Melhor f1:', knn.best_score_)\n",
    "    print('Melhor modelo:', knn.best_estimator_)\n",
    "    del knn"
   ]
  },
  {
   "cell_type": "markdown",
   "id": "affecting-glass",
   "metadata": {},
   "source": [
    "### LinearSVC"
   ]
  },
  {
   "cell_type": "code",
   "execution_count": 135,
   "id": "partial-explosion",
   "metadata": {},
   "outputs": [
    {
     "name": "stdout",
     "output_type": "stream",
     "text": [
      "Melhor f1: 0.6710610261885308\n",
      "Melhor modelo: Pipeline(steps=[('CountVectorizer', CountVectorizer()),\n",
      "                ('svm', LinearSVC(C=0.1, random_state=42))])\n",
      "Melhor f1: 0.6755187163547067\n",
      "Melhor modelo: Pipeline(steps=[('TfidfVectorizer', TfidfVectorizer()),\n",
      "                ('svm', LinearSVC(random_state=42))])\n",
      "CPU times: user 168 ms, sys: 432 ms, total: 599 ms\n",
      "Wall time: 2.14 s\n"
     ]
    }
   ],
   "source": [
    "%%time\n",
    "parameters = {\n",
    "    \"svm__C\": [0.001, 0.01, 0.1, 1.],\n",
    "    \"svm__penalty\": ['l1', 'l2']\n",
    "}\n",
    "\n",
    "\n",
    "for text_r in text_representation:\n",
    "    svm = GridSearchCV(\n",
    "        Pipeline([\n",
    "            (text_r, eval(text_r)()),\n",
    "            ('svm', LinearSVC(random_state=42))\n",
    "        ]), \n",
    "        parameters,\n",
    "        n_jobs=-1,\n",
    "        cv=kfold,\n",
    "        scoring='f1_weighted',\n",
    "    )\n",
    "\n",
    "    svm.fit(X_sample, y_sample)\n",
    "    \n",
    "    result_gridSearch['best_pipeline_model'].append(svm.best_estimator_)\n",
    "    result_gridSearch['f1_score'].append(svm.best_score_)\n",
    "\n",
    "    print('Melhor f1:', svm.best_score_)\n",
    "    print('Melhor modelo:', svm.best_estimator_)\n",
    "    del svm"
   ]
  },
  {
   "cell_type": "markdown",
   "id": "biological-bicycle",
   "metadata": {},
   "source": [
    "### DecisionTreeClassifier"
   ]
  },
  {
   "cell_type": "code",
   "execution_count": 136,
   "id": "literary-coordinator",
   "metadata": {},
   "outputs": [
    {
     "name": "stdout",
     "output_type": "stream",
     "text": [
      "Melhor f1: 0.5439974503905919\n",
      "Melhor modelo: Pipeline(steps=[('CountVectorizer', CountVectorizer()),\n",
      "                ('dt',\n",
      "                 DecisionTreeClassifier(criterion='entropy', max_depth=13,\n",
      "                                        random_state=42))])\n",
      "Melhor f1: 0.5144670648931168\n",
      "Melhor modelo: Pipeline(steps=[('TfidfVectorizer', TfidfVectorizer()),\n",
      "                ('dt', DecisionTreeClassifier(max_depth=13, random_state=42))])\n",
      "CPU times: user 752 ms, sys: 0 ns, total: 752 ms\n",
      "Wall time: 3.29 s\n"
     ]
    }
   ],
   "source": [
    "%%time\n",
    "parameters = {\n",
    "    'dt__criterion':['gini', 'entropy'],\n",
    "    \"dt__max_depth\": [3, 5, 7, 9, 11, 13],\n",
    "}\n",
    "\n",
    "for text_r in text_representation:\n",
    "    dt = GridSearchCV(\n",
    "        Pipeline([\n",
    "            (text_r, eval(text_r)()),\n",
    "            ('dt', DecisionTreeClassifier(random_state=42))\n",
    "        ]), \n",
    "        parameters,\n",
    "        n_jobs=-1,\n",
    "        cv=kfold,\n",
    "        scoring='f1_weighted',\n",
    "    )\n",
    "\n",
    "    dt.fit(X_sample, y_sample)\n",
    "    \n",
    "    result_gridSearch['best_pipeline_model'].append(dt.best_estimator_)\n",
    "    result_gridSearch['f1_score'].append(dt.best_score_)\n",
    "\n",
    "    print('Melhor f1:', dt.best_score_)\n",
    "    print('Melhor modelo:', dt.best_estimator_)\n",
    "    del dt"
   ]
  },
  {
   "cell_type": "markdown",
   "id": "numerical-eight",
   "metadata": {},
   "source": [
    "### RandomForestClassifier"
   ]
  },
  {
   "cell_type": "code",
   "execution_count": 137,
   "id": "departmental-mortality",
   "metadata": {},
   "outputs": [
    {
     "name": "stdout",
     "output_type": "stream",
     "text": [
      "Melhor f1: 0.36882087242584116\n",
      "Melhor modelo: Pipeline(steps=[('CountVectorizer', CountVectorizer()),\n",
      "                ('rf', RandomForestClassifier(max_depth=8, random_state=42))])\n",
      "Melhor f1: 0.37241108745779833\n",
      "Melhor modelo: Pipeline(steps=[('TfidfVectorizer', TfidfVectorizer()),\n",
      "                ('rf',\n",
      "                 RandomForestClassifier(max_depth=8, n_estimators=200,\n",
      "                                        random_state=42))])\n",
      "CPU times: user 2.3 s, sys: 0 ns, total: 2.3 s\n",
      "Wall time: 39.9 s\n"
     ]
    }
   ],
   "source": [
    "%%time\n",
    "parameters = { \n",
    "    'rf__n_estimators': [100, 200, 500],\n",
    "    'rf__max_features': ['auto', 'sqrt', 'log2'],\n",
    "    'rf__max_depth': [4, 6, 8]\n",
    "}\n",
    "\n",
    "for text_r in text_representation:\n",
    "    rf = GridSearchCV(\n",
    "        Pipeline([\n",
    "            (text_r, eval(text_r)()),\n",
    "            ('rf', RandomForestClassifier(random_state=42))\n",
    "        ]), \n",
    "        parameters,\n",
    "        n_jobs=-1,\n",
    "        cv=kfold,\n",
    "        scoring='f1_weighted',\n",
    "    )\n",
    "\n",
    "    rf.fit(X_sample, y_sample)\n",
    "    \n",
    "    result_gridSearch['best_pipeline_model'].append(rf.best_estimator_)\n",
    "    result_gridSearch['f1_score'].append(rf.best_score_)\n",
    "\n",
    "    print('Melhor f1:', rf.best_score_)\n",
    "    print('Melhor modelo:', rf.best_estimator_)\n",
    "    del rf"
   ]
  },
  {
   "cell_type": "markdown",
   "id": "automotive-distribution",
   "metadata": {},
   "source": [
    "### GradientBoostingClassifier"
   ]
  },
  {
   "cell_type": "code",
   "execution_count": 138,
   "id": "checked-paper",
   "metadata": {},
   "outputs": [
    {
     "name": "stdout",
     "output_type": "stream",
     "text": [
      "Melhor f1: 0.442430055926953\n",
      "Melhor modelo: Pipeline(steps=[('CountVectorizer', CountVectorizer()),\n",
      "                ('gb',\n",
      "                 GradientBoostingClassifier(min_samples_leaf=0.1,\n",
      "                                            min_samples_split=0.1,\n",
      "                                            n_estimators=10, random_state=42,\n",
      "                                            subsample=0.8))])\n",
      "Melhor f1: 0.44226042619063766\n",
      "Melhor modelo: Pipeline(steps=[('TfidfVectorizer', TfidfVectorizer()),\n",
      "                ('gb',\n",
      "                 GradientBoostingClassifier(min_samples_leaf=0.1,\n",
      "                                            min_samples_split=0.1,\n",
      "                                            n_estimators=10, random_state=42,\n",
      "                                            subsample=0.8))])\n",
      "CPU times: user 38.2 s, sys: 2.52 s, total: 40.7 s\n",
      "Wall time: 4min 22s\n"
     ]
    }
   ],
   "source": [
    "%%time\n",
    "parameters = {\n",
    "    \"gb__learning_rate\": [0.01, 0.1, 0.2],\n",
    "    \"gb__min_samples_split\": np.linspace(0.1, 0.5, 5),\n",
    "    \"gb__min_samples_leaf\": np.linspace(0.1, 0.5, 5),\n",
    "    \"gb__max_depth\": [3, 5, 8],\n",
    "    \"gb__subsample\": [0.5, 0.8, 1.0],\n",
    "    \"gb__n_estimators\":[10]\n",
    "}\n",
    "\n",
    "for text_r in text_representation:\n",
    "    gb = GridSearchCV(\n",
    "        Pipeline([\n",
    "            (text_r, eval(text_r)()),\n",
    "            ('gb', GradientBoostingClassifier(random_state=42))\n",
    "        ]), \n",
    "        parameters,\n",
    "        n_jobs=-1,\n",
    "        cv=kfold,\n",
    "        scoring='f1_weighted',\n",
    "    )\n",
    "\n",
    "    gb.fit(X_sample, y_sample)\n",
    "    \n",
    "    result_gridSearch['best_pipeline_model'].append(gb.best_estimator_)\n",
    "    result_gridSearch['f1_score'].append(gb.best_score_)\n",
    "\n",
    "    print('Melhor f1:', gb.best_score_)\n",
    "    print('Melhor modelo:', gb.best_estimator_)\n",
    "    del gb"
   ]
  },
  {
   "cell_type": "markdown",
   "id": "interpreted-glance",
   "metadata": {},
   "source": [
    "### MLPClassifier"
   ]
  },
  {
   "cell_type": "code",
   "execution_count": 117,
   "id": "painted-district",
   "metadata": {},
   "outputs": [
    {
     "name": "stdout",
     "output_type": "stream",
     "text": [
      "Melhor f1: 0.6153841309178932\n",
      "Melhor modelo: Pipeline(steps=[('CountVectorizer', CountVectorizer()),\n",
      "                ('mpl',\n",
      "                 MLPClassifier(alpha=0.01, hidden_layer_sizes=12, max_iter=1000,\n",
      "                               random_state=42, solver='lbfgs'))])\n",
      "Melhor f1: 0.6179189573650226\n",
      "Melhor modelo: Pipeline(steps=[('TfidfVectorizer', TfidfVectorizer()),\n",
      "                ('mpl',\n",
      "                 MLPClassifier(alpha=0.1, hidden_layer_sizes=10, max_iter=1000,\n",
      "                               random_state=42, solver='lbfgs'))])\n",
      "CPU times: user 2min 41s, sys: 6min 46s, total: 9min 28s\n",
      "Wall time: 43min 46s\n"
     ]
    }
   ],
   "source": [
    "%%time\n",
    "parameters = {\n",
    "    'mpl__solver': ['lbfgs'], \n",
    "    'mpl__max_iter': [1000, 1500, 2000], \n",
    "    'mpl__alpha': 10.0 ** -np.arange(1, 3), \n",
    "    'mpl__hidden_layer_sizes': [10, 14]\n",
    "}\n",
    "\n",
    "for text_r in text_representation:\n",
    "    mpl = GridSearchCV(\n",
    "        Pipeline([\n",
    "            (text_r, eval(text_r)()),\n",
    "            ('mpl', MLPClassifier(random_state=42))\n",
    "        ]), \n",
    "        parameters,\n",
    "        n_jobs=-1,\n",
    "        cv=kfold,\n",
    "        scoring='f1_macro',\n",
    "    )\n",
    "\n",
    "    mpl.fit(X_sample, y_sample)\n",
    "    \n",
    "    result_gridSearch['best_pipeline_model'].append(mpl.best_estimator_)\n",
    "    result_gridSearch['f1_score'].append(mpl.best_score_)\n",
    "\n",
    "    print('Melhor f1:', mpl.best_score_)\n",
    "    print('Melhor modelo:', mpl.best_estimator_)\n",
    "    del mpl"
   ]
  },
  {
   "cell_type": "markdown",
   "id": "social-bangkok",
   "metadata": {},
   "source": [
    "### Perceptron"
   ]
  },
  {
   "cell_type": "code",
   "execution_count": 119,
   "id": "native-longer",
   "metadata": {},
   "outputs": [
    {
     "name": "stdout",
     "output_type": "stream",
     "text": [
      "Melhor f1: 0.6143829368817615\n",
      "Melhor modelo: Pipeline(steps=[('CountVectorizer', CountVectorizer()),\n",
      "                ('perc', Perceptron(eta0=0.001, max_iter=10, random_state=42))])\n",
      "Melhor f1: 0.6165138591549469\n",
      "Melhor modelo: Pipeline(steps=[('TfidfVectorizer', TfidfVectorizer()),\n",
      "                ('perc', Perceptron(eta0=0.001, max_iter=10, random_state=42))])\n",
      "CPU times: user 4.83 s, sys: 0 ns, total: 4.83 s\n",
      "Wall time: 19.6 s\n"
     ]
    }
   ],
   "source": [
    "%%time\n",
    "parameters = {\n",
    "    'perc__alpha': [0.0001, 0.001, 0.01, 0.1],\n",
    "    'perc__eta0': [0.0001, 0.001, 0.01, 0.1, 1.0],\n",
    "    'perc__max_iter': [1, 10, 100, 1000, 10000]\n",
    "}\n",
    "\n",
    "for text_r in text_representation:\n",
    "    perc = GridSearchCV(\n",
    "        Pipeline([\n",
    "            (text_r, eval(text_r)()),\n",
    "            ('perc', Perceptron(random_state=42))\n",
    "        ]), \n",
    "        parameters,\n",
    "        n_jobs=-1,\n",
    "        cv=kfold,\n",
    "        scoring='f1_macro',\n",
    "    )\n",
    "\n",
    "    perc.fit(X_sample, y_sample)\n",
    "    \n",
    "    result_gridSearch['best_pipeline_model'].append(perc.best_estimator_)\n",
    "    result_gridSearch['f1_score'].append(perc.best_score_)\n",
    "\n",
    "    print('Melhor f1:', perc.best_score_)\n",
    "    print('Melhor modelo:', perc.best_estimator_)\n",
    "    del perc"
   ]
  },
  {
   "cell_type": "markdown",
   "id": "cultural-questionnaire",
   "metadata": {},
   "source": [
    "## Resultados"
   ]
  },
  {
   "cell_type": "code",
   "execution_count": 133,
   "id": "economic-shield",
   "metadata": {},
   "outputs": [],
   "source": [
    "pd.DataFrame(result_gridSearch).sort_values('f1_score', ascending=False).to_csv('result_amostragem.csv', index=False)"
   ]
  },
  {
   "cell_type": "code",
   "execution_count": 122,
   "id": "proof-sterling",
   "metadata": {},
   "outputs": [
    {
     "data": {
      "text/html": [
       "<div>\n",
       "<style scoped>\n",
       "    .dataframe tbody tr th:only-of-type {\n",
       "        vertical-align: middle;\n",
       "    }\n",
       "\n",
       "    .dataframe tbody tr th {\n",
       "        vertical-align: top;\n",
       "    }\n",
       "\n",
       "    .dataframe thead th {\n",
       "        text-align: right;\n",
       "    }\n",
       "</style>\n",
       "<table border=\"1\" class=\"dataframe\">\n",
       "  <thead>\n",
       "    <tr style=\"text-align: right;\">\n",
       "      <th></th>\n",
       "      <th>best_pipeline_model</th>\n",
       "      <th>f1_score</th>\n",
       "    </tr>\n",
       "  </thead>\n",
       "  <tbody>\n",
       "    <tr>\n",
       "      <th>3</th>\n",
       "      <td>(TfidfVectorizer(), LinearSVC(random_state=42))</td>\n",
       "      <td>0.636484</td>\n",
       "    </tr>\n",
       "    <tr>\n",
       "      <th>2</th>\n",
       "      <td>(CountVectorizer(), LinearSVC(C=0.1, random_st...</td>\n",
       "      <td>0.631415</td>\n",
       "    </tr>\n",
       "    <tr>\n",
       "      <th>11</th>\n",
       "      <td>(TfidfVectorizer(), MLPClassifier(alpha=0.1, h...</td>\n",
       "      <td>0.617919</td>\n",
       "    </tr>\n",
       "    <tr>\n",
       "      <th>13</th>\n",
       "      <td>(TfidfVectorizer(), Perceptron(eta0=0.001, max...</td>\n",
       "      <td>0.616514</td>\n",
       "    </tr>\n",
       "    <tr>\n",
       "      <th>10</th>\n",
       "      <td>(CountVectorizer(), MLPClassifier(alpha=0.01, ...</td>\n",
       "      <td>0.615384</td>\n",
       "    </tr>\n",
       "    <tr>\n",
       "      <th>12</th>\n",
       "      <td>(CountVectorizer(), Perceptron(eta0=0.001, max...</td>\n",
       "      <td>0.614383</td>\n",
       "    </tr>\n",
       "    <tr>\n",
       "      <th>4</th>\n",
       "      <td>(CountVectorizer(), DecisionTreeClassifier(cri...</td>\n",
       "      <td>0.472358</td>\n",
       "    </tr>\n",
       "    <tr>\n",
       "      <th>0</th>\n",
       "      <td>(CountVectorizer(), KNeighborsClassifier(n_nei...</td>\n",
       "      <td>0.469227</td>\n",
       "    </tr>\n",
       "    <tr>\n",
       "      <th>1</th>\n",
       "      <td>(TfidfVectorizer(), KNeighborsClassifier(weigh...</td>\n",
       "      <td>0.441283</td>\n",
       "    </tr>\n",
       "    <tr>\n",
       "      <th>5</th>\n",
       "      <td>(TfidfVectorizer(), DecisionTreeClassifier(max...</td>\n",
       "      <td>0.436281</td>\n",
       "    </tr>\n",
       "    <tr>\n",
       "      <th>8</th>\n",
       "      <td>(CountVectorizer(), ([DecisionTreeRegressor(cr...</td>\n",
       "      <td>0.333837</td>\n",
       "    </tr>\n",
       "    <tr>\n",
       "      <th>9</th>\n",
       "      <td>(TfidfVectorizer(), ([DecisionTreeRegressor(cr...</td>\n",
       "      <td>0.333599</td>\n",
       "    </tr>\n",
       "    <tr>\n",
       "      <th>7</th>\n",
       "      <td>(TfidfVectorizer(), (DecisionTreeClassifier(ma...</td>\n",
       "      <td>0.252347</td>\n",
       "    </tr>\n",
       "    <tr>\n",
       "      <th>6</th>\n",
       "      <td>(CountVectorizer(), (DecisionTreeClassifier(ma...</td>\n",
       "      <td>0.248468</td>\n",
       "    </tr>\n",
       "  </tbody>\n",
       "</table>\n",
       "</div>"
      ],
      "text/plain": [
       "                                  best_pipeline_model  f1_score\n",
       "3     (TfidfVectorizer(), LinearSVC(random_state=42))  0.636484\n",
       "2   (CountVectorizer(), LinearSVC(C=0.1, random_st...  0.631415\n",
       "11  (TfidfVectorizer(), MLPClassifier(alpha=0.1, h...  0.617919\n",
       "13  (TfidfVectorizer(), Perceptron(eta0=0.001, max...  0.616514\n",
       "10  (CountVectorizer(), MLPClassifier(alpha=0.01, ...  0.615384\n",
       "12  (CountVectorizer(), Perceptron(eta0=0.001, max...  0.614383\n",
       "4   (CountVectorizer(), DecisionTreeClassifier(cri...  0.472358\n",
       "0   (CountVectorizer(), KNeighborsClassifier(n_nei...  0.469227\n",
       "1   (TfidfVectorizer(), KNeighborsClassifier(weigh...  0.441283\n",
       "5   (TfidfVectorizer(), DecisionTreeClassifier(max...  0.436281\n",
       "8   (CountVectorizer(), ([DecisionTreeRegressor(cr...  0.333837\n",
       "9   (TfidfVectorizer(), ([DecisionTreeRegressor(cr...  0.333599\n",
       "7   (TfidfVectorizer(), (DecisionTreeClassifier(ma...  0.252347\n",
       "6   (CountVectorizer(), (DecisionTreeClassifier(ma...  0.248468"
      ]
     },
     "execution_count": 122,
     "metadata": {},
     "output_type": "execute_result"
    }
   ],
   "source": [
    "pd.DataFrame(result_gridSearch).sort_values('f1_score', ascending=False)"
   ]
  },
  {
   "cell_type": "markdown",
   "id": "compound-quarterly",
   "metadata": {},
   "source": [
    "## Algoritmo proposto"
   ]
  },
  {
   "cell_type": "code",
   "execution_count": 142,
   "id": "accepted-slide",
   "metadata": {},
   "outputs": [
    {
     "name": "stdout",
     "output_type": "stream",
     "text": [
      "Treino - Accuracy: 0.9273482294226337, F1: 0.9274474161893308\n",
      "Teste - Accuracy: 0.8621272056535846, F1: 0.8620739535838985\n"
     ]
    }
   ],
   "source": [
    "model = pd.DataFrame(result_gridSearch).sort_values('f1_score', ascending=False).iloc[0].best_pipeline_model\n",
    "\n",
    "model.fit(X_train, y_train)\n",
    "\n",
    "y_pred = model.predict(X_train)\n",
    "acc = accuracy_score(y_train, y_pred)\n",
    "f1 = f1_score(y_train, y_pred, average='weighted')\n",
    "print(f\"Treino - Accuracy: {acc}, F1: {f1}\")\n",
    "\n",
    "y_pred = model.predict(X_test)\n",
    "acc = accuracy_score(y_test, y_pred)\n",
    "f1 = f1_score(y_test, y_pred, average='weighted')\n",
    "print(f\"Teste - Accuracy: {acc}, F1: {f1}\")"
   ]
  },
  {
   "cell_type": "code",
   "execution_count": null,
   "id": "three-assault",
   "metadata": {},
   "outputs": [],
   "source": []
  },
  {
   "cell_type": "code",
   "execution_count": null,
   "id": "voluntary-strip",
   "metadata": {},
   "outputs": [],
   "source": []
  },
  {
   "cell_type": "code",
   "execution_count": null,
   "id": "played-title",
   "metadata": {},
   "outputs": [],
   "source": []
  },
  {
   "cell_type": "code",
   "execution_count": null,
   "id": "catholic-roulette",
   "metadata": {},
   "outputs": [],
   "source": []
  }
 ],
 "metadata": {
  "kernelspec": {
   "display_name": "Python 3",
   "language": "python",
   "name": "python3"
  },
  "language_info": {
   "codemirror_mode": {
    "name": "ipython",
    "version": 3
   },
   "file_extension": ".py",
   "mimetype": "text/x-python",
   "name": "python",
   "nbconvert_exporter": "python",
   "pygments_lexer": "ipython3",
   "version": "3.8.10"
  }
 },
 "nbformat": 4,
 "nbformat_minor": 5
}
