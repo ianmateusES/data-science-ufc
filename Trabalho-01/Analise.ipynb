{
 "cells": [
  {
   "cell_type": "code",
   "execution_count": 1,
   "id": "rapid-graphics",
   "metadata": {},
   "outputs": [],
   "source": [
    "import pandas as pd\n",
    "import numpy as np\n",
    "\n",
    "import matplotlib.pyplot as plt\n",
    "\n",
    "from sklearn.preprocessing import StandardScaler\n",
    "from sklearn.decomposition import PCA\n",
    "\n",
    "from sklearn.model_selection import train_test_split\n",
    "\n",
    "from sklearn.metrics import (confusion_matrix, accuracy_score, \n",
    "                             precision_score, recall_score, \n",
    "                             f1_score, mean_absolute_error, \n",
    "                             classification_report,\n",
    "                             mean_squared_error)\n",
    "\n",
    "\n",
    "from sklearn.linear_model import LogisticRegression\n",
    "from sklearn.tree import DecisionTreeClassifier\n",
    "from sklearn.ensemble import RandomForestClassifier\n",
    "from sklearn.neighbors import KNeighborsClassifier\n",
    "from sklearn.svm import LinearSVC\n",
    "from sklearn.naive_bayes import MultinomialNB, GaussianNB, BernoulliNB\n",
    "from xgboost import XGBClassifier"
   ]
  },
  {
   "cell_type": "code",
   "execution_count": 2,
   "id": "desirable-humidity",
   "metadata": {},
   "outputs": [],
   "source": [
    "df = pd.read_csv(\"strategeion_resume_skills.csv\", dtype='int16')"
   ]
  },
  {
   "cell_type": "markdown",
   "id": "infinite-headquarters",
   "metadata": {},
   "source": [
    "# Preparação dos dados"
   ]
  },
  {
   "cell_type": "code",
   "execution_count": 3,
   "id": "minimal-antibody",
   "metadata": {},
   "outputs": [],
   "source": [
    "df.drop([\"Female\", \"URM\", \"Disability\"], axis=1, inplace=True)"
   ]
  },
  {
   "cell_type": "code",
   "execution_count": 4,
   "id": "dedicated-checklist",
   "metadata": {},
   "outputs": [
    {
     "data": {
      "text/plain": [
       "Index(['Interview', 'Adobe Illustrator', 'Adobe Photoshop',\n",
       "       'Agile Methodologies', 'Analytical Skills', 'Art', 'Art Direction',\n",
       "       'Auditing', 'AutoCAD', 'Automation',\n",
       "       ...\n",
       "       'Web Applications', 'Web Design', 'Web Development', 'Windows',\n",
       "       'Windows Server', 'Wireless Technologies', 'WordPress', 'Workshops',\n",
       "       'Writing', 'Veteran'],\n",
       "      dtype='object', length=220)"
      ]
     },
     "execution_count": 4,
     "metadata": {},
     "output_type": "execute_result"
    }
   ],
   "source": [
    "df.columns"
   ]
  },
  {
   "cell_type": "code",
   "execution_count": 5,
   "id": "paperback-desert",
   "metadata": {},
   "outputs": [
    {
     "data": {
      "text/plain": [
       "(2605, 220)"
      ]
     },
     "execution_count": 5,
     "metadata": {},
     "output_type": "execute_result"
    }
   ],
   "source": [
    "df.shape"
   ]
  },
  {
   "cell_type": "code",
   "execution_count": 6,
   "id": "stupid-herald",
   "metadata": {},
   "outputs": [
    {
     "data": {
      "text/html": [
       "<div>\n",
       "<style scoped>\n",
       "    .dataframe tbody tr th:only-of-type {\n",
       "        vertical-align: middle;\n",
       "    }\n",
       "\n",
       "    .dataframe tbody tr th {\n",
       "        vertical-align: top;\n",
       "    }\n",
       "\n",
       "    .dataframe thead th {\n",
       "        text-align: right;\n",
       "    }\n",
       "</style>\n",
       "<table border=\"1\" class=\"dataframe\">\n",
       "  <thead>\n",
       "    <tr style=\"text-align: right;\">\n",
       "      <th></th>\n",
       "      <th>Interview</th>\n",
       "      <th>Adobe Illustrator</th>\n",
       "      <th>Adobe Photoshop</th>\n",
       "      <th>Agile Methodologies</th>\n",
       "      <th>Analytical Skills</th>\n",
       "      <th>Art</th>\n",
       "      <th>Art Direction</th>\n",
       "      <th>Auditing</th>\n",
       "      <th>AutoCAD</th>\n",
       "      <th>Automation</th>\n",
       "      <th>...</th>\n",
       "      <th>Web Applications</th>\n",
       "      <th>Web Design</th>\n",
       "      <th>Web Development</th>\n",
       "      <th>Windows</th>\n",
       "      <th>Windows Server</th>\n",
       "      <th>Wireless Technologies</th>\n",
       "      <th>WordPress</th>\n",
       "      <th>Workshops</th>\n",
       "      <th>Writing</th>\n",
       "      <th>Veteran</th>\n",
       "    </tr>\n",
       "  </thead>\n",
       "  <tbody>\n",
       "    <tr>\n",
       "      <th>0</th>\n",
       "      <td>1</td>\n",
       "      <td>0</td>\n",
       "      <td>0</td>\n",
       "      <td>1</td>\n",
       "      <td>0</td>\n",
       "      <td>0</td>\n",
       "      <td>0</td>\n",
       "      <td>0</td>\n",
       "      <td>0</td>\n",
       "      <td>0</td>\n",
       "      <td>...</td>\n",
       "      <td>0</td>\n",
       "      <td>0</td>\n",
       "      <td>0</td>\n",
       "      <td>0</td>\n",
       "      <td>0</td>\n",
       "      <td>0</td>\n",
       "      <td>0</td>\n",
       "      <td>0</td>\n",
       "      <td>0</td>\n",
       "      <td>1</td>\n",
       "    </tr>\n",
       "    <tr>\n",
       "      <th>1</th>\n",
       "      <td>1</td>\n",
       "      <td>0</td>\n",
       "      <td>0</td>\n",
       "      <td>0</td>\n",
       "      <td>0</td>\n",
       "      <td>0</td>\n",
       "      <td>0</td>\n",
       "      <td>0</td>\n",
       "      <td>0</td>\n",
       "      <td>0</td>\n",
       "      <td>...</td>\n",
       "      <td>0</td>\n",
       "      <td>0</td>\n",
       "      <td>0</td>\n",
       "      <td>0</td>\n",
       "      <td>0</td>\n",
       "      <td>0</td>\n",
       "      <td>0</td>\n",
       "      <td>0</td>\n",
       "      <td>0</td>\n",
       "      <td>1</td>\n",
       "    </tr>\n",
       "    <tr>\n",
       "      <th>2</th>\n",
       "      <td>0</td>\n",
       "      <td>0</td>\n",
       "      <td>0</td>\n",
       "      <td>0</td>\n",
       "      <td>0</td>\n",
       "      <td>0</td>\n",
       "      <td>0</td>\n",
       "      <td>0</td>\n",
       "      <td>0</td>\n",
       "      <td>0</td>\n",
       "      <td>...</td>\n",
       "      <td>1</td>\n",
       "      <td>0</td>\n",
       "      <td>0</td>\n",
       "      <td>0</td>\n",
       "      <td>0</td>\n",
       "      <td>0</td>\n",
       "      <td>0</td>\n",
       "      <td>0</td>\n",
       "      <td>0</td>\n",
       "      <td>0</td>\n",
       "    </tr>\n",
       "    <tr>\n",
       "      <th>3</th>\n",
       "      <td>1</td>\n",
       "      <td>0</td>\n",
       "      <td>0</td>\n",
       "      <td>0</td>\n",
       "      <td>0</td>\n",
       "      <td>0</td>\n",
       "      <td>0</td>\n",
       "      <td>0</td>\n",
       "      <td>0</td>\n",
       "      <td>0</td>\n",
       "      <td>...</td>\n",
       "      <td>0</td>\n",
       "      <td>0</td>\n",
       "      <td>0</td>\n",
       "      <td>0</td>\n",
       "      <td>0</td>\n",
       "      <td>0</td>\n",
       "      <td>0</td>\n",
       "      <td>0</td>\n",
       "      <td>0</td>\n",
       "      <td>1</td>\n",
       "    </tr>\n",
       "    <tr>\n",
       "      <th>4</th>\n",
       "      <td>1</td>\n",
       "      <td>0</td>\n",
       "      <td>0</td>\n",
       "      <td>0</td>\n",
       "      <td>0</td>\n",
       "      <td>0</td>\n",
       "      <td>0</td>\n",
       "      <td>0</td>\n",
       "      <td>0</td>\n",
       "      <td>0</td>\n",
       "      <td>...</td>\n",
       "      <td>0</td>\n",
       "      <td>0</td>\n",
       "      <td>0</td>\n",
       "      <td>0</td>\n",
       "      <td>0</td>\n",
       "      <td>0</td>\n",
       "      <td>0</td>\n",
       "      <td>0</td>\n",
       "      <td>0</td>\n",
       "      <td>0</td>\n",
       "    </tr>\n",
       "  </tbody>\n",
       "</table>\n",
       "<p>5 rows × 220 columns</p>\n",
       "</div>"
      ],
      "text/plain": [
       "   Interview  Adobe Illustrator  Adobe Photoshop  Agile Methodologies  \\\n",
       "0          1                  0                0                    1   \n",
       "1          1                  0                0                    0   \n",
       "2          0                  0                0                    0   \n",
       "3          1                  0                0                    0   \n",
       "4          1                  0                0                    0   \n",
       "\n",
       "   Analytical Skills  Art  Art Direction  Auditing  AutoCAD  Automation  ...  \\\n",
       "0                  0    0              0         0        0           0  ...   \n",
       "1                  0    0              0         0        0           0  ...   \n",
       "2                  0    0              0         0        0           0  ...   \n",
       "3                  0    0              0         0        0           0  ...   \n",
       "4                  0    0              0         0        0           0  ...   \n",
       "\n",
       "   Web Applications  Web Design  Web Development  Windows  Windows Server  \\\n",
       "0                 0           0                0        0               0   \n",
       "1                 0           0                0        0               0   \n",
       "2                 1           0                0        0               0   \n",
       "3                 0           0                0        0               0   \n",
       "4                 0           0                0        0               0   \n",
       "\n",
       "   Wireless Technologies  WordPress  Workshops  Writing  Veteran  \n",
       "0                      0          0          0        0        1  \n",
       "1                      0          0          0        0        1  \n",
       "2                      0          0          0        0        0  \n",
       "3                      0          0          0        0        1  \n",
       "4                      0          0          0        0        0  \n",
       "\n",
       "[5 rows x 220 columns]"
      ]
     },
     "execution_count": 6,
     "metadata": {},
     "output_type": "execute_result"
    }
   ],
   "source": [
    "df.head()"
   ]
  },
  {
   "cell_type": "code",
   "execution_count": 7,
   "id": "liquid-colonial",
   "metadata": {},
   "outputs": [
    {
     "data": {
      "image/png": "[encoded data removed]",
      "text/plain": [
       "<Figure size 360x360 with 1 Axes>"
      ]
     },
     "metadata": {
      "needs_background": "light"
     },
     "output_type": "display_data"
    }
   ],
   "source": [
    "df['Veteran'].value_counts().plot.bar(figsize=(5,5), rot=0, grid=True);"
   ]
  },
  {
   "cell_type": "markdown",
   "id": "faced-founder",
   "metadata": {},
   "source": [
    "# Modelos de testes"
   ]
  },
  {
   "cell_type": "code",
   "execution_count": 8,
   "id": "adjusted-sugar",
   "metadata": {},
   "outputs": [],
   "source": [
    "models = {\n",
    "    'LogisticRegression': {'random_state': 42},\n",
    "    'DecisionTreeClassifier': {'random_state': 42},\n",
    "    'RandomForestClassifier': {'random_state': 42},\n",
    "    'KNeighborsClassifier': {'n_neighbors': 3},\n",
    "    'LinearSVC': {'random_state': 42},\n",
    "    'MultinomialNB': {},\n",
    "    'GaussianNB': {},\n",
    "    'BernoulliNB': {},\n",
    "    'XGBClassifier': {'use_label_encoder': False, 'eval_metric': 'mlogloss'},\n",
    "}"
   ]
  },
  {
   "cell_type": "code",
   "execution_count": 9,
   "id": "pointed-pulse",
   "metadata": {},
   "outputs": [],
   "source": [
    "def test_model(X_train, y_train, X_test, y_test, model_name, **kwargs):\n",
    "    try:\n",
    "        model = eval(model_name)(**kwargs)\n",
    "        print(model)\n",
    "        model.fit(X_train, y_train)\n",
    "        y_pred = model.predict(X_test)\n",
    "        accuracy = accuracy_score(y_test, y_pred)\n",
    "        predict = precision_score(y_test, y_pred, average='weighted')\n",
    "        f1 = f1_score(y_test, y_pred, average='weighted')\n",
    "        report = classification_report(y_test, y_pred)\n",
    "        return accuracy, predict, f1, report\n",
    "    except ValueError:\n",
    "        print(ValueError)\n",
    "        return (0, 0, 0, 0)"
   ]
  },
  {
   "cell_type": "code",
   "execution_count": 10,
   "id": "italic-afghanistan",
   "metadata": {},
   "outputs": [],
   "source": [
    "X = df.drop(columns=['Veteran'], axis=1)\n",
    "y = df['Veteran']"
   ]
  },
  {
   "cell_type": "markdown",
   "id": "canadian-church",
   "metadata": {},
   "source": [
    "## Normal"
   ]
  },
  {
   "cell_type": "code",
   "execution_count": 11,
   "id": "egyptian-bible",
   "metadata": {},
   "outputs": [],
   "source": [
    "X_train, X_test, y_train, y_test = train_test_split(X, y, train_size=0.7, random_state=42)"
   ]
  },
  {
   "cell_type": "code",
   "execution_count": 12,
   "id": "historical-alexandria",
   "metadata": {},
   "outputs": [
    {
     "name": "stdout",
     "output_type": "stream",
     "text": [
      "Tamanho da amostra de treino 1823 e teste 782\n"
     ]
    }
   ],
   "source": [
    "print(f\"Tamanho da amostra de treino {len(y_train)} e teste {len(y_test)}\")"
   ]
  },
  {
   "cell_type": "code",
   "execution_count": 13,
   "id": "progressive-diana",
   "metadata": {},
   "outputs": [
    {
     "data": {
      "image/png": "[encoded data removed]",
      "text/plain": [
       "<Figure size 432x288 with 1 Axes>"
      ]
     },
     "metadata": {
      "needs_background": "light"
     },
     "output_type": "display_data"
    }
   ],
   "source": [
    "y_train.value_counts().plot.bar(grid=True, rot=0, title='Distribuição da amostra de treino');"
   ]
  },
  {
   "cell_type": "code",
   "execution_count": 14,
   "id": "normal-liberty",
   "metadata": {},
   "outputs": [
    {
     "data": {
      "image/png": "[encoded data removed]",
      "text/plain": [
       "<Figure size 432x288 with 1 Axes>"
      ]
     },
     "metadata": {
      "needs_background": "light"
     },
     "output_type": "display_data"
    }
   ],
   "source": [
    "y_test.value_counts().plot.bar(grid=True, rot=0, title='Distribuição da amostra de teste');"
   ]
  },
  {
   "cell_type": "code",
   "execution_count": 15,
   "id": "coated-greenhouse",
   "metadata": {},
   "outputs": [
    {
     "name": "stdout",
     "output_type": "stream",
     "text": [
      "LogisticRegression(random_state=42)\n",
      "DecisionTreeClassifier(random_state=42)\n",
      "RandomForestClassifier(random_state=42)\n",
      "KNeighborsClassifier(n_neighbors=3)\n",
      "LinearSVC(random_state=42)\n",
      "MultinomialNB()\n",
      "GaussianNB()\n",
      "BernoulliNB()\n",
      "XGBClassifier(base_score=None, booster=None, colsample_bylevel=None,\n",
      "              colsample_bynode=None, colsample_bytree=None,\n",
      "              eval_metric='mlogloss', gamma=None, gpu_id=None,\n",
      "              importance_type='gain', interaction_constraints=None,\n",
      "              learning_rate=None, max_delta_step=None, max_depth=None,\n",
      "              min_child_weight=None, missing=nan, monotone_constraints=None,\n",
      "              n_estimators=100, n_jobs=None, num_parallel_tree=None,\n",
      "              random_state=None, reg_alpha=None, reg_lambda=None,\n",
      "              scale_pos_weight=None, subsample=None, tree_method=None,\n",
      "              use_label_encoder=False, validate_parameters=None,\n",
      "              verbosity=None)\n"
     ]
    }
   ],
   "source": [
    "result = {}\n",
    "for algorithm, params in models.items():\n",
    "    result[algorithm] = test_model(X_train, y_train, X_test, y_test, model_name=algorithm, **params)"
   ]
  },
  {
   "cell_type": "code",
   "execution_count": 16,
   "id": "endangered-revision",
   "metadata": {},
   "outputs": [
    {
     "name": "stdout",
     "output_type": "stream",
     "text": [
      "LogisticRegression 0.8567774936061381\n",
      "DecisionTreeClassifier 0.7480818414322251\n",
      "RandomForestClassifier 0.8670076726342711\n",
      "KNeighborsClassifier 0.8069053708439897\n",
      "LinearSVC 0.8631713554987213\n",
      "MultinomialNB 0.8529411764705882\n",
      "GaussianNB 0.8056265984654731\n",
      "BernoulliNB 0.8580562659846548\n",
      "XGBClassifier 0.850383631713555\n"
     ]
    }
   ],
   "source": [
    "for key, values in result.items():\n",
    "    print(key, values[0])"
   ]
  },
  {
   "cell_type": "code",
   "execution_count": 17,
   "id": "outstanding-meditation",
   "metadata": {},
   "outputs": [],
   "source": [
    "del X_train, X_test, y_train, y_test"
   ]
  },
  {
   "cell_type": "markdown",
   "id": "documentary-semester",
   "metadata": {},
   "source": [
    "## Com StandardScaler"
   ]
  },
  {
   "cell_type": "code",
   "execution_count": 18,
   "id": "express-racing",
   "metadata": {},
   "outputs": [],
   "source": [
    "X_train, X_test, y_train, y_test = train_test_split(X, y, train_size=0.7, random_state=42)"
   ]
  },
  {
   "cell_type": "code",
   "execution_count": 19,
   "id": "hawaiian-insider",
   "metadata": {},
   "outputs": [],
   "source": [
    "standard = StandardScaler()\n",
    "standard.fit(X_train)\n",
    "X_train_standard = standard.transform(X_train)\n",
    "del X_train"
   ]
  },
  {
   "cell_type": "code",
   "execution_count": 20,
   "id": "computational-album",
   "metadata": {},
   "outputs": [],
   "source": [
    "X_test_standard = standard.transform(X_test)\n",
    "del X_test"
   ]
  },
  {
   "cell_type": "code",
   "execution_count": 21,
   "id": "grave-tackle",
   "metadata": {},
   "outputs": [
    {
     "name": "stdout",
     "output_type": "stream",
     "text": [
      "LogisticRegression(random_state=42)\n",
      "DecisionTreeClassifier(random_state=42)\n",
      "RandomForestClassifier(random_state=42)\n",
      "KNeighborsClassifier(n_neighbors=3)\n",
      "LinearSVC(random_state=42)\n"
     ]
    },
    {
     "name": "stderr",
     "output_type": "stream",
     "text": [
      "/home/ianmateus/.local/lib/python3.8/site-packages/sklearn/svm/_base.py:985: ConvergenceWarning: Liblinear failed to converge, increase the number of iterations.\n",
      "  warnings.warn(\"Liblinear failed to converge, increase \"\n"
     ]
    },
    {
     "name": "stdout",
     "output_type": "stream",
     "text": [
      "MultinomialNB()\n",
      "<class 'ValueError'>\n",
      "GaussianNB()\n",
      "BernoulliNB()\n",
      "XGBClassifier(base_score=None, booster=None, colsample_bylevel=None,\n",
      "              colsample_bynode=None, colsample_bytree=None,\n",
      "              eval_metric='mlogloss', gamma=None, gpu_id=None,\n",
      "              importance_type='gain', interaction_constraints=None,\n",
      "              learning_rate=None, max_delta_step=None, max_depth=None,\n",
      "              min_child_weight=None, missing=nan, monotone_constraints=None,\n",
      "              n_estimators=100, n_jobs=None, num_parallel_tree=None,\n",
      "              random_state=None, reg_alpha=None, reg_lambda=None,\n",
      "              scale_pos_weight=None, subsample=None, tree_method=None,\n",
      "              use_label_encoder=False, validate_parameters=None,\n",
      "              verbosity=None)\n"
     ]
    }
   ],
   "source": [
    "result = {}\n",
    "for algorithm, params in models.items():\n",
    "    result[algorithm + '_standard'] = test_model(X_train_standard, y_train, X_test_standard, y_test, model_name=algorithm, **params)"
   ]
  },
  {
   "cell_type": "code",
   "execution_count": 22,
   "id": "regional-settlement",
   "metadata": {},
   "outputs": [
    {
     "name": "stdout",
     "output_type": "stream",
     "text": [
      "LogisticRegression_standard 0.8388746803069054\n",
      "DecisionTreeClassifier_standard 0.7480818414322251\n",
      "RandomForestClassifier_standard 0.8670076726342711\n",
      "KNeighborsClassifier_standard 0.520460358056266\n",
      "LinearSVC_standard 0.8554987212276215\n",
      "MultinomialNB_standard 0\n",
      "GaussianNB_standard 0.8056265984654731\n",
      "BernoulliNB_standard 0.8580562659846548\n",
      "XGBClassifier_standard 0.850383631713555\n"
     ]
    }
   ],
   "source": [
    "for key, values in result.items():\n",
    "    if '_standard' in key:\n",
    "        print(key, values[0])"
   ]
  },
  {
   "cell_type": "code",
   "execution_count": 23,
   "id": "proprietary-particle",
   "metadata": {},
   "outputs": [],
   "source": [
    "del standard, X_train_standard, X_test_standard, y_train, y_test"
   ]
  },
  {
   "cell_type": "markdown",
   "id": "interstate-diploma",
   "metadata": {},
   "source": [
    "## Com PCA"
   ]
  },
  {
   "cell_type": "code",
   "execution_count": 24,
   "id": "numerical-parent",
   "metadata": {},
   "outputs": [],
   "source": [
    "X_train, X_test, y_train, y_test = train_test_split(X, y, train_size=0.7, random_state=42)"
   ]
  },
  {
   "cell_type": "code",
   "execution_count": 25,
   "id": "severe-lincoln",
   "metadata": {},
   "outputs": [],
   "source": [
    "pca = PCA(n_components=3)\n",
    "pca.fit(X_train)\n",
    "X_train_pca = pca.transform(X_train)\n",
    "del X_train"
   ]
  },
  {
   "cell_type": "code",
   "execution_count": 26,
   "id": "anticipated-google",
   "metadata": {},
   "outputs": [],
   "source": [
    "X_test_pca = pca.transform(X_test)\n",
    "del X_test"
   ]
  },
  {
   "cell_type": "code",
   "execution_count": 27,
   "id": "federal-adult",
   "metadata": {},
   "outputs": [
    {
     "name": "stdout",
     "output_type": "stream",
     "text": [
      "LogisticRegression(random_state=42)\n",
      "DecisionTreeClassifier(random_state=42)\n",
      "RandomForestClassifier(random_state=42)\n",
      "KNeighborsClassifier(n_neighbors=3)\n",
      "LinearSVC(random_state=42)\n",
      "MultinomialNB()\n",
      "<class 'ValueError'>\n",
      "GaussianNB()\n",
      "BernoulliNB()\n",
      "XGBClassifier(base_score=None, booster=None, colsample_bylevel=None,\n",
      "              colsample_bynode=None, colsample_bytree=None,\n",
      "              eval_metric='mlogloss', gamma=None, gpu_id=None,\n",
      "              importance_type='gain', interaction_constraints=None,\n",
      "              learning_rate=None, max_delta_step=None, max_depth=None,\n",
      "              min_child_weight=None, missing=nan, monotone_constraints=None,\n",
      "              n_estimators=100, n_jobs=None, num_parallel_tree=None,\n",
      "              random_state=None, reg_alpha=None, reg_lambda=None,\n",
      "              scale_pos_weight=None, subsample=None, tree_method=None,\n",
      "              use_label_encoder=False, validate_parameters=None,\n",
      "              verbosity=None)\n"
     ]
    }
   ],
   "source": [
    "result = {}\n",
    "for algorithm, params in models.items():\n",
    "    result[algorithm + '_pca'] = test_model(X_train_pca, y_train, X_test_pca, y_test, model_name=algorithm, **params)"
   ]
  },
  {
   "cell_type": "code",
   "execution_count": 28,
   "id": "pretty-calgary",
   "metadata": {},
   "outputs": [
    {
     "name": "stdout",
     "output_type": "stream",
     "text": [
      "LogisticRegression_pca 0.8670076726342711\n",
      "DecisionTreeClassifier_pca 0.7378516624040921\n",
      "RandomForestClassifier_pca 0.860613810741688\n",
      "KNeighborsClassifier_pca 0.8132992327365729\n",
      "LinearSVC_pca 0.8670076726342711\n",
      "MultinomialNB_pca 0\n",
      "GaussianNB_pca 0.8644501278772379\n",
      "BernoulliNB_pca 0.8644501278772379\n",
      "XGBClassifier_pca 0.8414322250639387\n"
     ]
    }
   ],
   "source": [
    "for key, values in result.items():\n",
    "    if '_pca' in key:\n",
    "        print(key, values[0])"
   ]
  },
  {
   "cell_type": "code",
   "execution_count": 29,
   "id": "close-protocol",
   "metadata": {},
   "outputs": [],
   "source": [
    "del pca, X_train_pca, X_test_pca, y_train, y_test"
   ]
  },
  {
   "cell_type": "markdown",
   "id": "pregnant-conjunction",
   "metadata": {},
   "source": [
    "## Analise dos resultados"
   ]
  },
  {
   "cell_type": "code",
   "execution_count": 30,
   "id": "emerging-salvation",
   "metadata": {},
   "outputs": [],
   "source": [
    "key_model_max_acc = max(result, key=result.get)"
   ]
  },
  {
   "cell_type": "code",
   "execution_count": 31,
   "id": "sitting-address",
   "metadata": {},
   "outputs": [
    {
     "name": "stdout",
     "output_type": "stream",
     "text": [
      "Modelo com melhor accuracy foi LogisticRegression_pca\n",
      "Accuracy: 0.8670076726342711\n",
      "**Report**\n",
      "              precision    recall  f1-score   support\n",
      "\n",
      "           0       0.87      0.94      0.90       500\n",
      "           1       0.87      0.74      0.80       282\n",
      "\n",
      "    accuracy                           0.87       782\n",
      "   macro avg       0.87      0.84      0.85       782\n",
      "weighted avg       0.87      0.87      0.86       782\n",
      "\n"
     ]
    }
   ],
   "source": [
    "print(f'Modelo com melhor accuracy foi {key_model_max_acc}\\nAccuracy: {result[key_model_max_acc][0]}')\n",
    "print(f'**Report**\\n{result[key_model_max_acc][-1]}')"
   ]
  },
  {
   "cell_type": "code",
   "execution_count": null,
   "id": "possible-eight",
   "metadata": {},
   "outputs": [],
   "source": []
  },
  {
   "cell_type": "markdown",
   "id": "amazing-radiation",
   "metadata": {},
   "source": [
    "### Resultados estratificado"
   ]
  },
  {
   "cell_type": "markdown",
   "id": "vulnerable-vehicle",
   "metadata": {},
   "source": [
    "Modelo com melhor accuracy foi LogisticRegression_pca\n",
    "\n",
    "Accuracy: 0.8427109974424553\n",
    "\n",
    "**Report**\n",
    "\n",
    "              precision    recall  f1-score   support\n",
    "\n",
    "           0       0.85      0.91      0.88       486\n",
    "           1       0.83      0.74      0.78       296\n",
    "\n",
    "    accuracy                           0.84       782\n",
    "   macro avg       0.84      0.82      0.83       782\n",
    "weighted avg       0.84      0.84      0.84       782"
   ]
  },
  {
   "cell_type": "code",
   "execution_count": null,
   "id": "functional-strategy",
   "metadata": {},
   "outputs": [],
   "source": []
  },
  {
   "cell_type": "code",
   "execution_count": null,
   "id": "instrumental-guidance",
   "metadata": {},
   "outputs": [],
   "source": []
  }
 ],
 "metadata": {
  "kernelspec": {
   "display_name": "Python 3",
   "language": "python",
   "name": "python3"
  },
  "language_info": {
   "codemirror_mode": {
    "name": "ipython",
    "version": 3
   },
   "file_extension": ".py",
   "mimetype": "text/x-python",
   "name": "python",
   "nbconvert_exporter": "python",
   "pygments_lexer": "ipython3",
   "version": "3.8.5"
  }
 },
 "nbformat": 4,
 "nbformat_minor": 5
}
